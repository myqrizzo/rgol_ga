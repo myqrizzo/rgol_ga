{
 "cells": [
  {
   "cell_type": "code",
   "execution_count": 21,
   "metadata": {
    "_cell_guid": "b1076dfc-b9ad-4769-8c92-a6c4dae69d19",
    "_uuid": "8f2839f25d086af736a60e9eeb907d3b93b6e0e5"
   },
   "outputs": [
    {
     "name": "stdout",
     "output_type": "stream",
     "text": [
      "['test.csv', 'train.csv', 'sampleSubmission.csv']\n"
     ]
    }
   ],
   "source": [
    "# This Python 3 environment comes with many helpful analytics libraries installed\n",
    "# It is defined by the kaggle/python docker image: https://github.com/kaggle/docker-python\n",
    "# For example, here's several helpful packages to load in \n",
    "\n",
    "import numpy as np # linear algebra\n",
    "import pandas as pd # data processing, CSV file I/O (e.g. pd.read_csv)\n",
    "import matplotlib.pyplot as plt\n",
    "\n",
    "from sklearn.ensemble import RandomForestClassifier\n",
    "from sklearn.model_selection import train_test_split\n",
    "from sklearn.metrics import accuracy_score\n",
    "# Input data files are available in the \"../input/\" directory.\n",
    "# For example, running this (by clicking run or pressing Shift+Enter) will list the files in the input directory\n",
    "\n",
    "import os\n",
    "print(os.listdir(\"../input\"))\n",
    "\n",
    "# Any results you write to the current directory are saved as output."
   ]
  },
  {
   "cell_type": "code",
   "execution_count": null,
   "metadata": {
    "_cell_guid": "79c7e3d0-c299-4dcb-8224-4455121ee9b0",
    "_uuid": "d629ff2d2480ee46fbb7e2d37f6b5fab8052498a"
   },
   "outputs": [],
   "source": [
    "train_df = pd.read_csv(\"../input/train.csv\", index_col=0)\n",
    "test_df = pd.read_csv(\"../input/test.csv\", index_col=0)"
   ]
  },
  {
   "cell_type": "code",
   "execution_count": 28,
   "metadata": {
    "_uuid": "0e621b77eb83bf6a386c514bb38aa44b4a7f10bd"
   },
   "outputs": [],
   "source": [
    "M = ((-1, -1), (-1, 0), (-1, 1), (0, -1), (0, 1), (1, -1), (1, 0), (1, 1))\n",
    "\n",
    "def calc_neighs(field, i, j):\n",
    "    neighs = 0\n",
    "    n = len(field)\n",
    "    for m in M:\n",
    "        row_idx = m[0] + i\n",
    "        col_idx = m[1] + j\n",
    "        if 0 <= row_idx < n and 0 <= col_idx < n:\n",
    "            if field[row_idx][col_idx]:\n",
    "                neighs += 1\n",
    "    return neighs\n",
    "\n",
    "def make_move(field, moves=1):\n",
    "    n = len(field)\n",
    "    cur_field = field\n",
    "    for _ in range(moves):\n",
    "        new_field = np.zeros((n, n), dtype=int)\n",
    "        for i in range(n):\n",
    "            for j in range(n):\n",
    "                neighs = calc_neighs(cur_field, i, j)\n",
    "                if cur_field[i][j] and neighs == 2:\n",
    "                    new_field[i][j] = 1\n",
    "                if neighs == 3:\n",
    "                    new_field[i][j] = 1\n",
    "        cur_field = new_field\n",
    "    return cur_field\n",
    "\n",
    "def generate_field(delta):\n",
    "    field = np.random.randint(0, 2, size=(20, 20))\n",
    "    field = make_move(field, moves=5)\n",
    "    return field\n",
    "\n",
    "def generate_data_row(delta):\n",
    "    start_field = generate_field(delta)\n",
    "    end_field = make_move(start_field, delta)\n",
    "    return np.hstack((np.array(delta).reshape(1, -1), start_field.reshape(1, -1), end_field.reshape(1, -1))).ravel()"
   ]
  },
  {
   "cell_type": "code",
   "execution_count": null,
   "metadata": {
    "_uuid": "05c773e8b74315ccdc340c10ae67213f6348fd4f"
   },
   "outputs": [],
   "source": [
    "# function which extracts windows around every cell for future prediction\n",
    "# and returns (X, y) for this field\n",
    "def train_row_to_windowed_data(row):\n",
    "    delta, start_field, end_field = row[0], row[1:401].reshape(20, 20), row[401:].reshape(20, 20)\n",
    "    padded = np.pad(end_field, delta, mode=\"constant\", constant_values=-1)\n",
    "    rows = []\n",
    "    labels = []\n",
    "    n = len(start_field)\n",
    "    for i in range(n):\n",
    "        for j in range(n):\n",
    "            window = padded[i:i+2*delta+1, j:j+2*delta+1]\n",
    "            cell_status = start_field[i][j]\n",
    "            rows.append(window.ravel())\n",
    "            labels.append(cell_status)\n",
    "    return (np.array(rows), np.array(labels).reshape(-1, 1))"
   ]
  },
  {
   "cell_type": "code",
   "execution_count": null,
   "metadata": {
    "_uuid": "6c65b9ce9641dae8d650293240b492e36219a16a"
   },
   "outputs": [],
   "source": [
    "# applies prev function to every row\n",
    "def extract_features_from_raw_data(raw_data):\n",
    "    X, y = [], []\n",
    "    for row_idx in range(raw_data.shape[0]):\n",
    "        field_X, field_y = train_row_to_windowed_data(raw_data[row_idx, :])\n",
    "        X.append(field_X)\n",
    "        y.append(field_y)\n",
    "    return np.vstack(X), np.vstack(y)"
   ]
  },
  {
   "cell_type": "code",
   "execution_count": null,
   "metadata": {
    "_uuid": "a7ae66038c19bb4bfadb41531823356966311504"
   },
   "outputs": [],
   "source": [
    "# training, takes about hour\n",
    "\n",
    "# models_by_delta = dict()\n",
    "\n",
    "# for d in range(1, 6):\n",
    "#     raw_data = train_df[train_df[\"delta\"] == d].values\n",
    "#     X, y = extract_features_from_raw_data(raw_data)\n",
    "    \n",
    "#     rf = RandomForestClassifier(n_jobs=1)\n",
    "#     rf.fit(X, y)\n",
    "    \n",
    "#     models_by_delta[d] = rf"
   ]
  },
  {
   "cell_type": "code",
   "execution_count": null,
   "metadata": {
    "_uuid": "15ce12cd39fabd17799853d472d7516ba3133b2c"
   },
   "outputs": [],
   "source": [
    "# predict all\n",
    "\n",
    "def predict_field(end_field, delta, model):\n",
    "    def field_to_window_rows(end_field, delta):\n",
    "        padded = np.pad(end_field, delta, mode=\"constant\", constant_values=-1)\n",
    "        rows = []\n",
    "\n",
    "        n = len(end_field)\n",
    "        for i in range(n):\n",
    "            for j in range(n):\n",
    "                window = padded[i:i+2*delta+1, j:j+2*delta+1]\n",
    "                rows.append(window.ravel())\n",
    "        return np.array(rows)\n",
    "    \n",
    "    rows = field_to_window_rows(end_field, delta)\n",
    "    \n",
    "    field = model.predict(rows)\n",
    "    return field\n",
    "\n",
    "res = []\n",
    "for row_idx in range(test_df.values.shape[0]):\n",
    "    if row_idx % 1000 == 0:\n",
    "        print(row_idx)\n",
    "    row = test_df.values[row_idx, :]\n",
    "    delta = row[0]\n",
    "    field = row[1:].reshape(20, 20)\n",
    "    pred = predict_field(field, delta, models_by_delta[delta])\n",
    "    res.append(pred)"
   ]
  },
  {
   "cell_type": "code",
   "execution_count": null,
   "metadata": {
    "_uuid": "fa44f377b65565162dfc9459f2249a8ef9e893c9"
   },
   "outputs": [],
   "source": [
    "# save\n",
    "# output = pd.DataFrame(np.hstack((np.arange(1, 50001).reshape((-1, 1)), np.array(res))), columns=([\"id\"] + list(train_df.columns)[1:401]))\n",
    "# output.to_csv(\"./submission.csv\", index=False)"
   ]
  },
  {
   "cell_type": "code",
   "execution_count": null,
   "metadata": {
    "_uuid": "a7e0f1ebb3c55bd80d32598df528dedbca57f0f7"
   },
   "outputs": [],
   "source": []
  },
  {
   "cell_type": "code",
   "execution_count": null,
   "metadata": {
    "_uuid": "4983ab299f30f0adbf19cac4a184e6ac3869ce4c"
   },
   "outputs": [],
   "source": []
  }
 ],
 "metadata": {
  "kernelspec": {
   "display_name": "Python 3",
   "language": "python",
   "name": "python3"
  },
  "language_info": {
   "codemirror_mode": {
    "name": "ipython",
    "version": 3
   },
   "file_extension": ".py",
   "mimetype": "text/x-python",
   "name": "python",
   "nbconvert_exporter": "python",
   "pygments_lexer": "ipython3",
   "version": "3.6.2"
  }
 },
 "nbformat": 4,
 "nbformat_minor": 2
}
