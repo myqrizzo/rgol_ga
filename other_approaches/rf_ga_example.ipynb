{
 "cells": [
  {
   "cell_type": "code",
   "execution_count": 1,
   "metadata": {},
   "outputs": [],
   "source": [
    "import numpy as np\n",
    "import pandas as pd\n",
    "from viz import show_field\n",
    "from MPGeneticSolver import MPGeneticSolver"
   ]
  },
  {
   "cell_type": "code",
   "execution_count": 2,
   "metadata": {},
   "outputs": [],
   "source": [
    "train_df = pd.read_csv(\"resources/train.csv\", index_col='id')\n",
    "test_df = pd.read_csv(\"resources/test.csv\", index_col='id')"
   ]
  },
  {
   "cell_type": "code",
   "execution_count": 3,
   "metadata": {},
   "outputs": [
    {
     "data": {
      "text/html": [
       "<div>\n",
       "<style scoped>\n",
       "    .dataframe tbody tr th:only-of-type {\n",
       "        vertical-align: middle;\n",
       "    }\n",
       "\n",
       "    .dataframe tbody tr th {\n",
       "        vertical-align: top;\n",
       "    }\n",
       "\n",
       "    .dataframe thead th {\n",
       "        text-align: right;\n",
       "    }\n",
       "</style>\n",
       "<table border=\"1\" class=\"dataframe\">\n",
       "  <thead>\n",
       "    <tr style=\"text-align: right;\">\n",
       "      <th></th>\n",
       "      <th>delta</th>\n",
       "      <th>start.1</th>\n",
       "      <th>start.2</th>\n",
       "      <th>start.3</th>\n",
       "      <th>start.4</th>\n",
       "      <th>start.5</th>\n",
       "      <th>start.6</th>\n",
       "      <th>start.7</th>\n",
       "      <th>start.8</th>\n",
       "      <th>start.9</th>\n",
       "      <th>...</th>\n",
       "      <th>stop.391</th>\n",
       "      <th>stop.392</th>\n",
       "      <th>stop.393</th>\n",
       "      <th>stop.394</th>\n",
       "      <th>stop.395</th>\n",
       "      <th>stop.396</th>\n",
       "      <th>stop.397</th>\n",
       "      <th>stop.398</th>\n",
       "      <th>stop.399</th>\n",
       "      <th>stop.400</th>\n",
       "    </tr>\n",
       "    <tr>\n",
       "      <th>id</th>\n",
       "      <th></th>\n",
       "      <th></th>\n",
       "      <th></th>\n",
       "      <th></th>\n",
       "      <th></th>\n",
       "      <th></th>\n",
       "      <th></th>\n",
       "      <th></th>\n",
       "      <th></th>\n",
       "      <th></th>\n",
       "      <th></th>\n",
       "      <th></th>\n",
       "      <th></th>\n",
       "      <th></th>\n",
       "      <th></th>\n",
       "      <th></th>\n",
       "      <th></th>\n",
       "      <th></th>\n",
       "      <th></th>\n",
       "      <th></th>\n",
       "      <th></th>\n",
       "    </tr>\n",
       "  </thead>\n",
       "  <tbody>\n",
       "    <tr>\n",
       "      <th>1</th>\n",
       "      <td>4</td>\n",
       "      <td>0</td>\n",
       "      <td>0</td>\n",
       "      <td>0</td>\n",
       "      <td>0</td>\n",
       "      <td>0</td>\n",
       "      <td>0</td>\n",
       "      <td>0</td>\n",
       "      <td>0</td>\n",
       "      <td>0</td>\n",
       "      <td>...</td>\n",
       "      <td>0</td>\n",
       "      <td>0</td>\n",
       "      <td>0</td>\n",
       "      <td>0</td>\n",
       "      <td>0</td>\n",
       "      <td>0</td>\n",
       "      <td>0</td>\n",
       "      <td>0</td>\n",
       "      <td>0</td>\n",
       "      <td>0</td>\n",
       "    </tr>\n",
       "    <tr>\n",
       "      <th>2</th>\n",
       "      <td>5</td>\n",
       "      <td>0</td>\n",
       "      <td>0</td>\n",
       "      <td>0</td>\n",
       "      <td>1</td>\n",
       "      <td>1</td>\n",
       "      <td>1</td>\n",
       "      <td>0</td>\n",
       "      <td>0</td>\n",
       "      <td>0</td>\n",
       "      <td>...</td>\n",
       "      <td>0</td>\n",
       "      <td>0</td>\n",
       "      <td>0</td>\n",
       "      <td>0</td>\n",
       "      <td>0</td>\n",
       "      <td>0</td>\n",
       "      <td>1</td>\n",
       "      <td>0</td>\n",
       "      <td>0</td>\n",
       "      <td>0</td>\n",
       "    </tr>\n",
       "    <tr>\n",
       "      <th>3</th>\n",
       "      <td>2</td>\n",
       "      <td>0</td>\n",
       "      <td>0</td>\n",
       "      <td>1</td>\n",
       "      <td>0</td>\n",
       "      <td>1</td>\n",
       "      <td>0</td>\n",
       "      <td>0</td>\n",
       "      <td>0</td>\n",
       "      <td>0</td>\n",
       "      <td>...</td>\n",
       "      <td>0</td>\n",
       "      <td>1</td>\n",
       "      <td>0</td>\n",
       "      <td>0</td>\n",
       "      <td>0</td>\n",
       "      <td>0</td>\n",
       "      <td>0</td>\n",
       "      <td>0</td>\n",
       "      <td>0</td>\n",
       "      <td>0</td>\n",
       "    </tr>\n",
       "    <tr>\n",
       "      <th>4</th>\n",
       "      <td>5</td>\n",
       "      <td>0</td>\n",
       "      <td>0</td>\n",
       "      <td>0</td>\n",
       "      <td>0</td>\n",
       "      <td>0</td>\n",
       "      <td>0</td>\n",
       "      <td>0</td>\n",
       "      <td>0</td>\n",
       "      <td>0</td>\n",
       "      <td>...</td>\n",
       "      <td>0</td>\n",
       "      <td>0</td>\n",
       "      <td>0</td>\n",
       "      <td>0</td>\n",
       "      <td>0</td>\n",
       "      <td>0</td>\n",
       "      <td>0</td>\n",
       "      <td>0</td>\n",
       "      <td>0</td>\n",
       "      <td>0</td>\n",
       "    </tr>\n",
       "    <tr>\n",
       "      <th>5</th>\n",
       "      <td>4</td>\n",
       "      <td>0</td>\n",
       "      <td>0</td>\n",
       "      <td>0</td>\n",
       "      <td>0</td>\n",
       "      <td>0</td>\n",
       "      <td>0</td>\n",
       "      <td>0</td>\n",
       "      <td>0</td>\n",
       "      <td>1</td>\n",
       "      <td>...</td>\n",
       "      <td>1</td>\n",
       "      <td>0</td>\n",
       "      <td>0</td>\n",
       "      <td>0</td>\n",
       "      <td>0</td>\n",
       "      <td>0</td>\n",
       "      <td>0</td>\n",
       "      <td>0</td>\n",
       "      <td>1</td>\n",
       "      <td>0</td>\n",
       "    </tr>\n",
       "  </tbody>\n",
       "</table>\n",
       "<p>5 rows × 801 columns</p>\n",
       "</div>"
      ],
      "text/plain": [
       "    delta  start.1  start.2  start.3  start.4  start.5  start.6  start.7  \\\n",
       "id                                                                         \n",
       "1       4        0        0        0        0        0        0        0   \n",
       "2       5        0        0        0        1        1        1        0   \n",
       "3       2        0        0        1        0        1        0        0   \n",
       "4       5        0        0        0        0        0        0        0   \n",
       "5       4        0        0        0        0        0        0        0   \n",
       "\n",
       "    start.8  start.9  ...  stop.391  stop.392  stop.393  stop.394  stop.395  \\\n",
       "id                    ...                                                     \n",
       "1         0        0  ...         0         0         0         0         0   \n",
       "2         0        0  ...         0         0         0         0         0   \n",
       "3         0        0  ...         0         1         0         0         0   \n",
       "4         0        0  ...         0         0         0         0         0   \n",
       "5         0        1  ...         1         0         0         0         0   \n",
       "\n",
       "    stop.396  stop.397  stop.398  stop.399  stop.400  \n",
       "id                                                    \n",
       "1          0         0         0         0         0  \n",
       "2          0         1         0         0         0  \n",
       "3          0         0         0         0         0  \n",
       "4          0         0         0         0         0  \n",
       "5          0         0         0         1         0  \n",
       "\n",
       "[5 rows x 801 columns]"
      ]
     },
     "execution_count": 3,
     "metadata": {},
     "output_type": "execute_result"
    }
   ],
   "source": [
    "train_df.head()"
   ]
  },
  {
   "cell_type": "code",
   "execution_count": 4,
   "metadata": {},
   "outputs": [],
   "source": [
    "rf_pred = pd.read_csv(\"s_0.4473684210526315.csv\", index_col='id')"
   ]
  },
  {
   "cell_type": "code",
   "execution_count": 5,
   "metadata": {},
   "outputs": [],
   "source": [
    "s = rf_pred.iloc[0].values"
   ]
  },
  {
   "cell_type": "code",
   "execution_count": 6,
   "metadata": {},
   "outputs": [
    {
     "data": {
      "image/png": "[encoded data removed]",
      "text/plain": [
       "<Figure size 432x288 with 1 Axes>"
      ]
     },
     "metadata": {},
     "output_type": "display_data"
    }
   ],
   "source": [
    "show_field(s)"
   ]
  },
  {
   "cell_type": "code",
   "execution_count": 7,
   "metadata": {},
   "outputs": [
    {
     "data": {
      "image/png": "[encoded data removed]",
      "text/plain": [
       "<Figure size 432x288 with 1 Axes>"
      ]
     },
     "metadata": {},
     "output_type": "display_data"
    }
   ],
   "source": [
    "t = test_df.iloc[0, 1:].values\n",
    "delta = test_df.iloc[0, 0]\n",
    "show_field(t)"
   ]
  },
  {
   "cell_type": "code",
   "execution_count": 49,
   "metadata": {},
   "outputs": [
    {
     "name": "stdout",
     "output_type": "stream",
     "text": [
      "Generation #: best score\n",
      "Generation #: best score\n",
      "Generation #: best score\n",
      "Generation #: best score\n",
      "Generation #: best score\n",
      "Generation #: best score\n",
      "Generation #: best score\n",
      "Generation #: best score\n",
      "Generation #: best score\n",
      "Generation #: best score\n",
      "Generation  50 :  0.98\n",
      "Generation  50 :  0.9825\n",
      "Generation  50 :  0.985\n",
      "Generation  50 :  0.98\n",
      "Generation  50 :  0.98\n",
      "Generation  50 :  0.9825\n",
      "Generation  50 :  0.9825\n",
      "Generation  50 :  0.9825\n",
      "Generation  50 :  0.98\n",
      "Generation  50 :  0.98\n",
      "Generation  100 :  0.9875\n",
      "Generation  100 :  0.9875\n",
      "Generation  100 :  0.99\n",
      "Generation  100 :  0.9875\n",
      "Generation  100 :  0.99\n",
      "Generation  100 :  0.9925\n",
      "Generation  100 :  0.99\n",
      "Generation  100 :  0.9875\n",
      "Generation  100 :  0.9875\n",
      "Generation  100 :  0.9875\n",
      "Generation  150 :  0.9875\n",
      "Generation  150 :  0.9875\n",
      "Generation  150 :  0.9875\n",
      "Generation  150 :  0.99\n",
      "Generation  150 :  0.99\n",
      "Generation  150 :  0.99\n",
      "Generation  150 :  0.99\n",
      "Generation  150 :  0.9875\n",
      "Generation  150 :  0.9925\n",
      "Generation  150 :  0.99\n",
      "Early stopping on generation  184  with best score  0.9875\n",
      "Early stopping on generation  191  with best score  0.9875\n",
      "Early stopping on generation  196  with best score  0.9875\n",
      "Early stopping on generation  190  with best score  0.9925\n",
      "Early stopping on generation  191  with best score  0.99\n",
      "Generation  200 :  0.99\n",
      "Generation  200 :  0.99\n",
      "Generation  200 :  0.99\n",
      "Generation  200 :  0.9875\n",
      "Generation  200 :  0.99\n",
      "Early stopping on generation  206  with best score  0.99\n",
      "Early stopping on generation  212  with best score  0.9875\n",
      "Early stopping on generation  231  with best score  0.99\n",
      "Early stopping on generation  230  with best score  0.99\n",
      "Generation  250 :  0.99\n",
      "Generation  300 :  0.99\n",
      "Generation  350 :  0.99\n",
      "Early stopping on generation  399  with best score  0.99\n"
     ]
    }
   ],
   "source": [
    "mpga = MPGeneticSolver(initialization_strategy=s, verbosity=1, patience=50, n_proc=10)"
   ]
  },
  {
   "cell_type": "code",
   "execution_count": 50,
   "metadata": {},
   "outputs": [],
   "source": [
    "res = mpga.solve(t.reshape((20, 20)).astype(np.uint8), delta, return_all=True)"
   ]
  },
  {
   "cell_type": "code",
   "execution_count": 53,
   "metadata": {},
   "outputs": [],
   "source": [
    "best_start, best_score = res[-1]"
   ]
  },
  {
   "cell_type": "code",
   "execution_count": 54,
   "metadata": {},
   "outputs": [
    {
     "data": {
      "image/png": "[encoded data removed]",
      "text/plain": [
       "<Figure size 432x288 with 1 Axes>"
      ]
     },
     "metadata": {},
     "output_type": "display_data"
    }
   ],
   "source": [
    "show_field(best_start)"
   ]
  },
  {
   "cell_type": "code",
   "execution_count": 57,
   "metadata": {},
   "outputs": [],
   "source": [
    "boards = [board for (board, score) in res]"
   ]
  },
  {
   "cell_type": "code",
   "execution_count": 58,
   "metadata": {},
   "outputs": [
    {
     "data": {
      "text/plain": [
       "10"
      ]
     },
     "execution_count": 58,
     "metadata": {},
     "output_type": "execute_result"
    }
   ],
   "source": [
    "len(boards)"
   ]
  },
  {
   "cell_type": "code",
   "execution_count": 59,
   "metadata": {},
   "outputs": [],
   "source": [
    "av_start = np.zeros_like(boards[0])\n",
    "for board in boards:\n",
    "    av_start += board\n",
    "av_start = av_start / len(boards)"
   ]
  },
  {
   "cell_type": "code",
   "execution_count": 60,
   "metadata": {},
   "outputs": [],
   "source": [
    "av_start[av_start >= 0.5] = 1\n",
    "av_start[av_start < 0.5] = 0"
   ]
  },
  {
   "cell_type": "code",
   "execution_count": 61,
   "metadata": {},
   "outputs": [],
   "source": [
    "av_start = av_start.astype(np.uint8)"
   ]
  },
  {
   "cell_type": "code",
   "execution_count": 62,
   "metadata": {},
   "outputs": [
    {
     "data": {
      "image/png": "[encoded data removed]",
      "text/plain": [
       "<Figure size 432x288 with 1 Axes>"
      ]
     },
     "metadata": {},
     "output_type": "display_data"
    }
   ],
   "source": [
    "show_field(av_start)"
   ]
  },
  {
   "cell_type": "code",
   "execution_count": 63,
   "metadata": {},
   "outputs": [],
   "source": [
    "import matplotlib.pyplot as plt\n",
    "import pyximport\n",
    "pyximport.install(language_level=3)\n",
    "import life"
   ]
  },
  {
   "cell_type": "code",
   "execution_count": 64,
   "metadata": {},
   "outputs": [
    {
     "data": {
      "image/png": "[encoded data removed]",
      "text/plain": [
       "<Figure size 1440x720 with 4 Axes>"
      ]
     },
     "metadata": {},
     "output_type": "display_data"
    }
   ],
   "source": [
    "fig = plt.figure(figsize=(20, 10))\n",
    "ax0 = fig.add_subplot(1, 4, 1)\n",
    "show_field(t)\n",
    "ax0.set_title(\"Test example id=0\")\n",
    "ax1 = fig.add_subplot(1, 4, 2)\n",
    "show_field(s)\n",
    "ax1.set_title(f\"RF solution, score={life.fitness_score(s.reshape((20, 20)).astype(np.uint8), t.reshape((20, 20)).astype(np.uint8), delta)}\")\n",
    "ax2 = fig.add_subplot(1, 4, 3)\n",
    "show_field(best_start)\n",
    "ax2.set_title(f\"GA using RF init | best, score={life.fitness_score(best_start, t.reshape((20, 20)).astype(np.uint8), delta)}\")\n",
    "ax3 = fig.add_subplot(1, 4, 4)\n",
    "show_field(av_start)\n",
    "ax3.set_title(f\"GA using RF init | avg, score={life.fitness_score(av_start, t.reshape((20, 20)).astype(np.uint8), delta)}\")\n",
    "plt.savefig(\"rf_ga.png\")"
   ]
  },
  {
   "cell_type": "code",
   "execution_count": 30,
   "metadata": {},
   "outputs": [],
   "source": [
    "rf_pred.iloc[0] = start.ravel()"
   ]
  },
  {
   "cell_type": "code",
   "execution_count": 31,
   "metadata": {},
   "outputs": [
    {
     "data": {
      "image/png": "[encoded data removed]",
      "text/plain": [
       "<Figure size 432x288 with 1 Axes>"
      ]
     },
     "metadata": {},
     "output_type": "display_data"
    }
   ],
   "source": [
    "test = rf_pred.iloc[0].values\n",
    "show_field(test)"
   ]
  },
  {
   "cell_type": "code",
   "execution_count": 34,
   "metadata": {},
   "outputs": [
    {
     "data": {
      "image/png": "[encoded data removed]",
      "text/plain": [
       "<Figure size 432x288 with 1 Axes>"
      ]
     },
     "metadata": {},
     "output_type": "display_data"
    }
   ],
   "source": [
    "show_field(life.make_move(test.reshape((20, 20)).astype(np.uint8), delta))"
   ]
  },
  {
   "cell_type": "code",
   "execution_count": null,
   "metadata": {},
   "outputs": [],
   "source": []
  }
 ],
 "metadata": {
  "kernelspec": {
   "display_name": "Python 3",
   "language": "python",
   "name": "python3"
  },
  "language_info": {
   "codemirror_mode": {
    "name": "ipython",
    "version": 3
   },
   "file_extension": ".py",
   "mimetype": "text/x-python",
   "name": "python",
   "nbconvert_exporter": "python",
   "pygments_lexer": "ipython3",
   "version": "3.6.7"
  }
 },
 "nbformat": 4,
 "nbformat_minor": 2
}
