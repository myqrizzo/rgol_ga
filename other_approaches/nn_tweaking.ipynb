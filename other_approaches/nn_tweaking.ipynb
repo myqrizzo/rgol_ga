{
 "cells": [
  {
   "cell_type": "code",
   "execution_count": 12,
   "metadata": {},
   "outputs": [],
   "source": [
    "import numpy as np\n",
    "import pandas as pd"
   ]
  },
  {
   "cell_type": "code",
   "execution_count": 13,
   "metadata": {},
   "outputs": [],
   "source": [
    "from tools import generate_samples, data_generator"
   ]
  },
  {
   "cell_type": "code",
   "execution_count": 14,
   "metadata": {},
   "outputs": [],
   "source": [
    "import keras as ks\n",
    "from keras.models import Sequential\n",
    "from keras.layers import Dense, Dropout"
   ]
  },
  {
   "cell_type": "code",
   "execution_count": 40,
   "metadata": {},
   "outputs": [],
   "source": [
    "nn = Sequential()\n",
    "nn.add(Dense(400, input_shape=(400,), activation='relu'))\n",
    "nn.add(Dense(400, activation='relu'))\n",
    "nn.add(Dense(400, activation='sigmoid'))\n",
    "nn.compile(optimizer='rmsprop', loss='binary_crossentropy', metrics=['accuracy'])"
   ]
  },
  {
   "cell_type": "code",
   "execution_count": 5,
   "metadata": {},
   "outputs": [
    {
     "name": "stdout",
     "output_type": "stream",
     "text": [
      "Epoch 1/10\n",
      " - 5s - loss: 0.5815 - acc: 0.7349\n",
      "Epoch 2/10\n",
      " - 2s - loss: 0.5436 - acc: 0.7739\n",
      "Epoch 3/10\n",
      " - 4s - loss: 0.5398 - acc: 0.7751\n",
      "Epoch 4/10\n",
      " - 3s - loss: 0.5365 - acc: 0.7748\n",
      "Epoch 5/10\n",
      " - 3s - loss: 0.5374 - acc: 0.7720\n",
      "Epoch 6/10\n",
      " - 3s - loss: 0.5279 - acc: 0.7770\n",
      "Epoch 7/10\n",
      " - 3s - loss: 0.5299 - acc: 0.7732\n",
      "Epoch 8/10\n",
      " - 4s - loss: 0.5274 - acc: 0.7724\n",
      "Epoch 9/10\n",
      " - 3s - loss: 0.5201 - acc: 0.7783\n",
      "Epoch 10/10\n",
      " - 4s - loss: 0.5171 - acc: 0.7763\n"
     ]
    },
    {
     "data": {
      "text/plain": [
       "<keras.callbacks.History at 0x1355eba58>"
      ]
     },
     "execution_count": 5,
     "metadata": {},
     "output_type": "execute_result"
    }
   ],
   "source": [
    "nn.fit_generator(data_generator(), steps_per_epoch=10, epochs=10, verbose=2)"
   ]
  },
  {
   "cell_type": "code",
   "execution_count": 6,
   "metadata": {},
   "outputs": [],
   "source": [
    "train_df = pd.read_csv(\"resources/train.csv\", index_col=0)\n",
    "test_df = pd.read_csv(\"resources/test.csv\", index_col=0)\n",
    "fst_delta = train_df[train_df.delta == 1]\n",
    "X, Y = fst_delta.iloc[:, 1:401], fst_delta.iloc[:, 401:]"
   ]
  },
  {
   "cell_type": "code",
   "execution_count": 7,
   "metadata": {},
   "outputs": [],
   "source": [
    "from sklearn.model_selection import train_test_split\n",
    "X_train, X_test, y_train, y_test = train_test_split(X, Y, test_size=0.2)"
   ]
  },
  {
   "cell_type": "code",
   "execution_count": 41,
   "metadata": {},
   "outputs": [
    {
     "name": "stdout",
     "output_type": "stream",
     "text": [
      "Epoch 1/10\n",
      "7904/7904 [==============================] - 1s 187us/step - loss: 0.3610 - acc: 0.8604\n",
      "Epoch 2/10\n",
      "7904/7904 [==============================] - 1s 143us/step - loss: 0.3016 - acc: 0.8571\n",
      "Epoch 3/10\n",
      "7904/7904 [==============================] - 1s 143us/step - loss: 0.2778 - acc: 0.8577\n",
      "Epoch 4/10\n",
      "7904/7904 [==============================] - 1s 151us/step - loss: 0.2628 - acc: 0.8622\n",
      "Epoch 5/10\n",
      "7904/7904 [==============================] - 1s 146us/step - loss: 0.2515 - acc: 0.8676\n",
      "Epoch 6/10\n",
      "7904/7904 [==============================] - 1s 148us/step - loss: 0.2421 - acc: 0.8731\n",
      "Epoch 7/10\n",
      "7904/7904 [==============================] - 1s 147us/step - loss: 0.2338 - acc: 0.8785\n",
      "Epoch 8/10\n",
      "7904/7904 [==============================] - 1s 150us/step - loss: 0.2265 - acc: 0.8836\n",
      "Epoch 9/10\n",
      "7904/7904 [==============================] - 1s 156us/step - loss: 0.2200 - acc: 0.8881\n",
      "Epoch 10/10\n",
      "7904/7904 [==============================] - 1s 144us/step - loss: 0.2139 - acc: 0.8925\n"
     ]
    },
    {
     "data": {
      "text/plain": [
       "<keras.callbacks.History at 0x145f9ec88>"
      ]
     },
     "execution_count": 41,
     "metadata": {},
     "output_type": "execute_result"
    }
   ],
   "source": [
    "nn.fit(X_train, y_train, epochs=10)"
   ]
  },
  {
   "cell_type": "code",
   "execution_count": 42,
   "metadata": {},
   "outputs": [],
   "source": [
    "Y_pred = nn.predict(X_test)"
   ]
  },
  {
   "cell_type": "code",
   "execution_count": 43,
   "metadata": {},
   "outputs": [],
   "source": [
    "from sklearn.metrics import mean_absolute_error"
   ]
  },
  {
   "cell_type": "code",
   "execution_count": 49,
   "metadata": {},
   "outputs": [
    {
     "data": {
      "text/plain": [
       "0.14004807692307694"
      ]
     },
     "execution_count": 49,
     "metadata": {},
     "output_type": "execute_result"
    }
   ],
   "source": [
    "mean_absolute_error(y_test, Y_pred.round(0))"
   ]
  },
  {
   "cell_type": "code",
   "execution_count": 15,
   "metadata": {},
   "outputs": [],
   "source": [
    "from keras.applications.vgg16 import VGG16\n",
    "import ssl\n",
    "ssl._create_default_https_context = ssl._create_unverified_context"
   ]
  },
  {
   "cell_type": "code",
   "execution_count": 102,
   "metadata": {},
   "outputs": [],
   "source": [
    "from keras.layers import Conv2D, Flatten, GlobalAveragePooling2D, MaxPooling2D, Dropout, BatchNormalization, Activation, LeakyReLU\n",
    "from keras.callbacks import EarlyStopping"
   ]
  },
  {
   "cell_type": "code",
   "execution_count": 158,
   "metadata": {},
   "outputs": [],
   "source": [
    "cnn = Sequential()\n",
    "cnn.add(Conv2D(64, (3, 3), input_shape=(20, 20, 1)))\n",
    "cnn.add(BatchNormalization())\n",
    "cnn.add(LeakyReLU())\n",
    "cnn.add(MaxPooling2D())\n",
    "cnn.add(Conv2D(64, (3, 3)))\n",
    "cnn.add(BatchNormalization())\n",
    "cnn.add(LeakyReLU())\n",
    "cnn.add(MaxPooling2D())\n",
    "cnn.add(Conv2D(64, (2, 2)))\n",
    "cnn.add(BatchNormalization())\n",
    "cnn.add(LeakyReLU())\n",
    "cnn.add(MaxPooling2D())\n",
    "cnn.add(GlobalAveragePooling2D())\n",
    "cnn.add(Dense(400, activation='relu'))\n",
    "cnn.add(Dense(400, activation='sigmoid'))"
   ]
  },
  {
   "cell_type": "code",
   "execution_count": 159,
   "metadata": {},
   "outputs": [],
   "source": [
    "cnn.compile('adam', 'binary_crossentropy', ['accuracy'])"
   ]
  },
  {
   "cell_type": "code",
   "execution_count": 160,
   "metadata": {},
   "outputs": [
    {
     "name": "stdout",
     "output_type": "stream",
     "text": [
      "_________________________________________________________________\n",
      "Layer (type)                 Output Shape              Param #   \n",
      "=================================================================\n",
      "conv2d_76 (Conv2D)           (None, 18, 18, 64)        640       \n",
      "_________________________________________________________________\n",
      "batch_normalization_41 (Batc (None, 18, 18, 64)        256       \n",
      "_________________________________________________________________\n",
      "leaky_re_lu_38 (LeakyReLU)   (None, 18, 18, 64)        0         \n",
      "_________________________________________________________________\n",
      "max_pooling2d_70 (MaxPooling (None, 9, 9, 64)          0         \n",
      "_________________________________________________________________\n",
      "conv2d_77 (Conv2D)           (None, 7, 7, 64)          36928     \n",
      "_________________________________________________________________\n",
      "batch_normalization_42 (Batc (None, 7, 7, 64)          256       \n",
      "_________________________________________________________________\n",
      "leaky_re_lu_39 (LeakyReLU)   (None, 7, 7, 64)          0         \n",
      "_________________________________________________________________\n",
      "max_pooling2d_71 (MaxPooling (None, 3, 3, 64)          0         \n",
      "_________________________________________________________________\n",
      "conv2d_78 (Conv2D)           (None, 2, 2, 64)          16448     \n",
      "_________________________________________________________________\n",
      "batch_normalization_43 (Batc (None, 2, 2, 64)          256       \n",
      "_________________________________________________________________\n",
      "leaky_re_lu_40 (LeakyReLU)   (None, 2, 2, 64)          0         \n",
      "_________________________________________________________________\n",
      "max_pooling2d_72 (MaxPooling (None, 1, 1, 64)          0         \n",
      "_________________________________________________________________\n",
      "global_average_pooling2d_20  (None, 64)                0         \n",
      "_________________________________________________________________\n",
      "dense_58 (Dense)             (None, 400)               26000     \n",
      "_________________________________________________________________\n",
      "dense_59 (Dense)             (None, 400)               160400    \n",
      "=================================================================\n",
      "Total params: 241,184\n",
      "Trainable params: 240,800\n",
      "Non-trainable params: 384\n",
      "_________________________________________________________________\n"
     ]
    }
   ],
   "source": [
    "cnn.summary()"
   ]
  },
  {
   "cell_type": "code",
   "execution_count": 161,
   "metadata": {},
   "outputs": [],
   "source": [
    "es = EarlyStopping(monitor='acc', patience=3, min_delta=0.05)"
   ]
  },
  {
   "cell_type": "code",
   "execution_count": 162,
   "metadata": {},
   "outputs": [
    {
     "name": "stdout",
     "output_type": "stream",
     "text": [
      "Epoch 1/10\n",
      "7904/7904 [==============================] - 13s 2ms/step - loss: 0.3695 - acc: 0.8580\n",
      "Epoch 2/10\n",
      "7904/7904 [==============================] - 11s 1ms/step - loss: 0.3451 - acc: 0.8625\n",
      "Epoch 3/10\n",
      "7904/7904 [==============================] - 11s 1ms/step - loss: 0.3364 - acc: 0.8622\n",
      "Epoch 4/10\n",
      "7904/7904 [==============================] - 12s 1ms/step - loss: 0.3305 - acc: 0.8619\n"
     ]
    },
    {
     "data": {
      "text/plain": [
       "<keras.callbacks.History at 0x17873d7f0>"
      ]
     },
     "execution_count": 162,
     "metadata": {},
     "output_type": "execute_result"
    }
   ],
   "source": [
    "cnn.fit(X_train.values.reshape(-1, 20, 20, 1), y_train, epochs=10, callbacks=[es], batch_size=32)"
   ]
  },
  {
   "cell_type": "code",
   "execution_count": 165,
   "metadata": {},
   "outputs": [],
   "source": [
    "Y_pred = cnn.predict(X_test.values.reshape(-1, 20, 20, 1))"
   ]
  },
  {
   "cell_type": "code",
   "execution_count": 166,
   "metadata": {},
   "outputs": [
    {
     "data": {
      "text/plain": [
       "0.1952824328650243"
      ]
     },
     "execution_count": 166,
     "metadata": {},
     "output_type": "execute_result"
    }
   ],
   "source": [
    "mean_absolute_error(y_test, Y_pred)"
   ]
  },
  {
   "cell_type": "code",
   "execution_count": 194,
   "metadata": {},
   "outputs": [
    {
     "name": "stdout",
     "output_type": "stream",
     "text": [
      "_________________________________________________________________\n",
      "Layer (type)                 Output Shape              Param #   \n",
      "=================================================================\n",
      "dense_120 (Dense)            (None, 2000)              802000    \n",
      "_________________________________________________________________\n",
      "dropout_58 (Dropout)         (None, 2000)              0         \n",
      "_________________________________________________________________\n",
      "dense_121 (Dense)            (None, 2000)              4002000   \n",
      "_________________________________________________________________\n",
      "dropout_59 (Dropout)         (None, 2000)              0         \n",
      "_________________________________________________________________\n",
      "dense_122 (Dense)            (None, 400)               800400    \n",
      "=================================================================\n",
      "Total params: 5,604,400\n",
      "Trainable params: 5,604,400\n",
      "Non-trainable params: 0\n",
      "_________________________________________________________________\n"
     ]
    }
   ],
   "source": [
    "nn2 = Sequential()\n",
    "nn2.add(Dense(2000, input_shape=(400,), activation='relu'))\n",
    "nn2.add(Dropout(0.5))\n",
    "nn2.add(Dense(2000, activation='relu'))\n",
    "nn2.add(Dropout(0.5))\n",
    "nn2.add(Dense(400, activation='sigmoid'))\n",
    "nn2.compile(optimizer='rmsprop', loss='binary_crossentropy', metrics=['accuracy'])\n",
    "nn2.summary()"
   ]
  },
  {
   "cell_type": "code",
   "execution_count": 195,
   "metadata": {},
   "outputs": [
    {
     "name": "stdout",
     "output_type": "stream",
     "text": [
      "Epoch 1/40\n",
      "7904/7904 [==============================] - 20s 2ms/step - loss: 0.3480 - acc: 0.8603\n",
      "Epoch 2/40\n",
      "7904/7904 [==============================] - 18s 2ms/step - loss: 0.3013 - acc: 0.8590\n",
      "Epoch 3/40\n",
      "7904/7904 [==============================] - 15s 2ms/step - loss: 0.2860 - acc: 0.8610\n",
      "Epoch 4/40\n",
      "7904/7904 [==============================] - 15s 2ms/step - loss: 0.2776 - acc: 0.8633\n",
      "Epoch 5/40\n",
      "7904/7904 [==============================] - 16s 2ms/step - loss: 0.2717 - acc: 0.8652\n",
      "Epoch 6/40\n",
      "7904/7904 [==============================] - 17s 2ms/step - loss: 0.2676 - acc: 0.8672\n",
      "Epoch 7/40\n",
      "7904/7904 [==============================] - 18s 2ms/step - loss: 0.2649 - acc: 0.8690\n",
      "Epoch 8/40\n",
      "7904/7904 [==============================] - 17s 2ms/step - loss: 0.2632 - acc: 0.8700\n",
      "Epoch 9/40\n",
      "7904/7904 [==============================] - 18s 2ms/step - loss: 0.2610 - acc: 0.8716\n",
      "Epoch 10/40\n",
      "7904/7904 [==============================] - 17s 2ms/step - loss: 0.2606 - acc: 0.8721\n",
      "Epoch 11/40\n",
      "7904/7904 [==============================] - 17s 2ms/step - loss: 0.2599 - acc: 0.8725\n",
      "Epoch 12/40\n",
      "7904/7904 [==============================] - 18s 2ms/step - loss: 0.2599 - acc: 0.8732\n",
      "Epoch 13/40\n",
      "7904/7904 [==============================] - 18s 2ms/step - loss: 0.2601 - acc: 0.8734\n",
      "Epoch 14/40\n",
      "7904/7904 [==============================] - 16s 2ms/step - loss: 0.2604 - acc: 0.8736\n",
      "Epoch 15/40\n",
      "7904/7904 [==============================] - 17s 2ms/step - loss: 0.2612 - acc: 0.8735\n"
     ]
    },
    {
     "data": {
      "text/plain": [
       "0.22363667793686243"
      ]
     },
     "execution_count": 195,
     "metadata": {},
     "output_type": "execute_result"
    }
   ],
   "source": [
    "es = EarlyStopping(monitor='loss', patience=6, min_delta=0.01)\n",
    "nn2.fit(X_train, y_train, epochs=40, callbacks=[es], batch_size=32)\n",
    "mean_absolute_error(y_test, nn2.predict(X_test))"
   ]
  },
  {
   "cell_type": "code",
   "execution_count": 197,
   "metadata": {},
   "outputs": [
    {
     "name": "stdout",
     "output_type": "stream",
     "text": [
      "Epoch 1/10\n",
      " - 4s - loss: 0.4965 - acc: 0.7705\n",
      "Epoch 2/10\n",
      " - 4s - loss: 0.4987 - acc: 0.7692\n",
      "Epoch 3/10\n",
      " - 3s - loss: 0.5066 - acc: 0.7646\n",
      "Epoch 4/10\n",
      " - 4s - loss: 0.5042 - acc: 0.7657\n",
      "Epoch 5/10\n",
      " - 4s - loss: 0.4984 - acc: 0.7685\n",
      "Epoch 6/10\n",
      " - 4s - loss: 0.4996 - acc: 0.7687\n",
      "Epoch 7/10\n",
      " - 3s - loss: 0.4953 - acc: 0.7702\n"
     ]
    },
    {
     "data": {
      "text/plain": [
       "0.23775724139624377"
      ]
     },
     "execution_count": 197,
     "metadata": {},
     "output_type": "execute_result"
    }
   ],
   "source": [
    "nn2.fit_generator(data_generator(), steps_per_epoch=10, epochs=10, verbose=2, callbacks=[es])  # continue training on simulated data\n",
    "mean_absolute_error(y_test, nn2.predict(X_test)) # notice increase in loss function and drop in accuracy\n",
    "# one of the possible reasons: distribution of cells on the initial state is *not* uniform"
   ]
  }
 ],
 "metadata": {
  "kernelspec": {
   "display_name": "Python 3",
   "language": "python",
   "name": "python3"
  },
  "language_info": {
   "codemirror_mode": {
    "name": "ipython",
    "version": 3
   },
   "file_extension": ".py",
   "mimetype": "text/x-python",
   "name": "python",
   "nbconvert_exporter": "python",
   "pygments_lexer": "ipython3",
   "version": "3.6.2"
  }
 },
 "nbformat": 4,
 "nbformat_minor": 2
}
