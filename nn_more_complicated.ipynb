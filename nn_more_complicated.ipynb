{
 "cells": [
  {
   "cell_type": "code",
   "execution_count": 5,
   "metadata": {},
   "outputs": [],
   "source": [
    "import numpy as np\n",
    "import pandas as pd\n",
    "import keras as ks\n",
    "from keras.models import Sequential\n",
    "from keras.layers import Dense, Dropout\n",
    "from keras.callbacks import EarlyStopping, ModelCheckpoint"
   ]
  },
  {
   "cell_type": "code",
   "execution_count": 2,
   "metadata": {},
   "outputs": [],
   "source": [
    "import pyximport\n",
    "pyximport.install(language_level=3)\n",
    "import life"
   ]
  },
  {
   "cell_type": "code",
   "execution_count": 16,
   "metadata": {},
   "outputs": [],
   "source": [
    "def create_model():\n",
    "    nn = Sequential()\n",
    "    nn.add(Dense(400, input_shape=(400,), activation='relu'))\n",
    "    nn.add(Dense(400, activation='relu'))\n",
    "    nn.add(Dense(400, activation='relu'))\n",
    "    nn.add(Dense(400, activation='relu'))\n",
    "    nn.add(Dense(400, activation='sigmoid'))\n",
    "    nn.compile(optimizer='adam', loss='binary_crossentropy', metrics=['accuracy', 'mae'])\n",
    "    return nn"
   ]
  },
  {
   "cell_type": "code",
   "execution_count": 17,
   "metadata": {},
   "outputs": [],
   "source": [
    "es = EarlyStopping(monitor='loss', patience=6, min_delta=0.01)\n",
    "check = ModelCheckpoint('weights.{epoch:02d}-{acc:.2f}.hdf5', monitor='acc', save_best_only=True)"
   ]
  },
  {
   "cell_type": "code",
   "execution_count": 18,
   "metadata": {},
   "outputs": [
    {
     "name": "stdout",
     "output_type": "stream",
     "text": [
      "_________________________________________________________________\n",
      "Layer (type)                 Output Shape              Param #   \n",
      "=================================================================\n",
      "dense_11 (Dense)             (None, 400)               160400    \n",
      "_________________________________________________________________\n",
      "dense_12 (Dense)             (None, 400)               160400    \n",
      "_________________________________________________________________\n",
      "dense_13 (Dense)             (None, 400)               160400    \n",
      "_________________________________________________________________\n",
      "dense_14 (Dense)             (None, 400)               160400    \n",
      "_________________________________________________________________\n",
      "dense_15 (Dense)             (None, 400)               160400    \n",
      "=================================================================\n",
      "Total params: 802,000\n",
      "Trainable params: 802,000\n",
      "Non-trainable params: 0\n",
      "_________________________________________________________________\n"
     ]
    }
   ],
   "source": [
    "model = create_model()\n",
    "model.summary()"
   ]
  },
  {
   "cell_type": "code",
   "execution_count": 19,
   "metadata": {},
   "outputs": [],
   "source": [
    "NROW, NCOL = 20, 20\n",
    "\n",
    "def generate_samples(delta=1, n=32):\n",
    "    \"\"\"\n",
    "    Generate batch of samples\n",
    "    \n",
    "    @return: (end_frames, start_frames)\n",
    "    \"\"\"\n",
    "    batch = np.split(np.random.binomial(1, 0.5, (NROW * n, NCOL)).astype('uint8'), n)\n",
    "    Yy = [life.make_move(state, 5) for state in batch]\n",
    "    Xx = [life.make_move(state, 1) for state in Yy]\n",
    "    Y = np.array([y.ravel() for y in Yy])\n",
    "    X = np.array([x.ravel() for x in Xx])\n",
    "    return X, Y\n",
    "    \n",
    "\n",
    "def data_generator(delta=1, batch_size=32):\n",
    "    \"\"\"\n",
    "    Can be used along with .fit_generator to generate training samples on the fly\n",
    "    \"\"\"\n",
    "    while True:\n",
    "        batch = np.split(np.random.binomial(1, 0.5, (NROW * batch_size, NCOL)).astype('uint8'), batch_size)\n",
    "        Yy = [life.make_move(state, 5) for state in batch]\n",
    "        Xx = [life.make_move(state, delta) for state in Yy]\n",
    "\n",
    "        Y = np.array([y.ravel() for y in Yy])\n",
    "        X = np.array([x.ravel() for x in Xx])\n",
    "        yield X, Y"
   ]
  },
  {
   "cell_type": "code",
   "execution_count": 22,
   "metadata": {},
   "outputs": [
    {
     "name": "stdout",
     "output_type": "stream",
     "text": [
      "Epoch 1/20\n",
      " - 4s - loss: 0.4142 - acc: 0.7908 - mean_absolute_error: 0.2702\n",
      "Epoch 2/20\n",
      " - 4s - loss: 0.4139 - acc: 0.7909 - mean_absolute_error: 0.2700\n",
      "Epoch 3/20\n",
      " - 4s - loss: 0.4132 - acc: 0.7913 - mean_absolute_error: 0.2695\n",
      "Epoch 4/20\n",
      " - 4s - loss: 0.4128 - acc: 0.7917 - mean_absolute_error: 0.2691\n",
      "Epoch 5/20\n",
      " - 4s - loss: 0.4125 - acc: 0.7918 - mean_absolute_error: 0.2690\n",
      "Epoch 6/20\n",
      " - 4s - loss: 0.4116 - acc: 0.7925 - mean_absolute_error: 0.2683\n",
      "Epoch 7/20\n",
      " - 4s - loss: 0.4109 - acc: 0.7928 - mean_absolute_error: 0.2679\n"
     ]
    },
    {
     "data": {
      "text/plain": [
       "<keras.callbacks.History at 0x141f27da0>"
      ]
     },
     "execution_count": 22,
     "metadata": {},
     "output_type": "execute_result"
    }
   ],
   "source": [
    "model.fit_generator(data_generator(), steps_per_epoch=500, epochs=20, verbose=2, callbacks=[es, check])"
   ]
  },
  {
   "cell_type": "code",
   "execution_count": 26,
   "metadata": {},
   "outputs": [],
   "source": [
    "train_df = pd.read_csv('resources/train.csv', index_col=0)"
   ]
  },
  {
   "cell_type": "code",
   "execution_count": 28,
   "metadata": {},
   "outputs": [],
   "source": [
    "from viz import show_field"
   ]
  },
  {
   "cell_type": "code",
   "execution_count": 30,
   "metadata": {},
   "outputs": [],
   "source": [
    "start = train_df.iloc[1, 1:401].values.reshape((20, 20))\n",
    "stop = train_df.iloc[1, 401:].values.reshape((20, 20))\n",
    "delta = train_df.iloc[1, 0]"
   ]
  },
  {
   "cell_type": "code",
   "execution_count": 31,
   "metadata": {},
   "outputs": [
    {
     "data": {
      "image/png": "[encoded data removed]",
      "text/plain": [
       "<Figure size 432x288 with 1 Axes>"
      ]
     },
     "metadata": {},
     "output_type": "display_data"
    }
   ],
   "source": [
    "show_field(start)"
   ]
  },
  {
   "cell_type": "code",
   "execution_count": 32,
   "metadata": {},
   "outputs": [
    {
     "data": {
      "image/png": "[encoded data removed]",
      "text/plain": [
       "<Figure size 432x288 with 1 Axes>"
      ]
     },
     "metadata": {},
     "output_type": "display_data"
    }
   ],
   "source": [
    "show_field(stop)"
   ]
  },
  {
   "cell_type": "code",
   "execution_count": 33,
   "metadata": {},
   "outputs": [],
   "source": [
    "train_pred = model.predict(train_df.iloc[:, 401:]).round(0).astype('uint8')"
   ]
  },
  {
   "cell_type": "code",
   "execution_count": 36,
   "metadata": {},
   "outputs": [],
   "source": [
    "v = (train_pred == train_df.iloc[:, 1:401]).values"
   ]
  },
  {
   "cell_type": "code",
   "execution_count": 37,
   "metadata": {},
   "outputs": [
    {
     "data": {
      "text/plain": [
       "0.85615925"
      ]
     },
     "execution_count": 37,
     "metadata": {},
     "output_type": "execute_result"
    }
   ],
   "source": [
    "v.sum() / (v.shape[0] * v.shape[1])"
   ]
  },
  {
   "cell_type": "code",
   "execution_count": 40,
   "metadata": {},
   "outputs": [
    {
     "data": {
      "text/plain": [
       "0.8681819331983806"
      ]
     },
     "execution_count": 40,
     "metadata": {},
     "output_type": "execute_result"
    }
   ],
   "source": [
    "single_delta = train_df[train_df.delta == 1]\n",
    "pred = model.predict(single_delta.iloc[:, 401:]).round(0).astype('uint8')\n",
    "v = (pred == single_delta.iloc[:, 1:401]).values\n",
    "v.sum() / (v.shape[0] * v.shape[1])"
   ]
  },
  {
   "cell_type": "code",
   "execution_count": 41,
   "metadata": {},
   "outputs": [
    {
     "data": {
      "text/plain": [
       "0.8549888663967611"
      ]
     },
     "execution_count": 41,
     "metadata": {},
     "output_type": "execute_result"
    }
   ],
   "source": [
    "v = (np.zeros_like(pred) == single_delta.iloc[:, 1:401]).values\n",
    "v.sum() / (v.shape[0] * v.shape[1])"
   ]
  },
  {
   "cell_type": "code",
   "execution_count": 23,
   "metadata": {},
   "outputs": [],
   "source": [
    "test_df = pd.read_csv('resources/test.csv', index_col=0)"
   ]
  },
  {
   "cell_type": "code",
   "execution_count": 24,
   "metadata": {},
   "outputs": [],
   "source": [
    "submit_df = pd.DataFrame(model.predict(test_df.iloc[:, 1:]).round(0).astype('uint8'), \n",
    "                         index=test_df.index, columns=['start.' + str(_) for _ in range(1, 401)])"
   ]
  },
  {
   "cell_type": "code",
   "execution_count": 25,
   "metadata": {},
   "outputs": [],
   "source": [
    "submit_df.to_csv('nn_submit_v2.csv')"
   ]
  }
 ],
 "metadata": {
  "kernelspec": {
   "display_name": "Python 3",
   "language": "python",
   "name": "python3"
  },
  "language_info": {
   "codemirror_mode": {
    "name": "ipython",
    "version": 3
   },
   "file_extension": ".py",
   "mimetype": "text/x-python",
   "name": "python",
   "nbconvert_exporter": "python",
   "pygments_lexer": "ipython3",
   "version": "3.7.3"
  }
 },
 "nbformat": 4,
 "nbformat_minor": 4
}
