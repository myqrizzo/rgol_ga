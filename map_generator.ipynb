{
 "cells": [
  {
   "cell_type": "code",
   "execution_count": 1,
   "metadata": {},
   "outputs": [],
   "source": [
    "import numpy as np\n",
    "import pandas as pd\n",
    "NROW, NCOL = 20, 20"
   ]
  },
  {
   "cell_type": "code",
   "execution_count": 2,
   "metadata": {},
   "outputs": [],
   "source": [
    "np.random.seed(42)\n",
    "m = np.random.randint(0, 2, size=NROW * NCOL).reshape(NROW, NCOL)"
   ]
  },
  {
   "cell_type": "code",
   "execution_count": 3,
   "metadata": {},
   "outputs": [],
   "source": [
    "def empty_frame():\n",
    "    return np.zeros((NROW, NCOL), dtype=np.int64)\n",
    "\n",
    "def generate_frame(seed=None):\n",
    "    if seed is not None:\n",
    "        np.random.seed(seed)\n",
    "    return np.random.randint(0, 2, size=NROW * NCOL).reshape(NROW, NCOL)"
   ]
  },
  {
   "cell_type": "code",
   "execution_count": 4,
   "metadata": {},
   "outputs": [],
   "source": [
    "M = ((-1, -1), (-1, 0), (-1, 1), (0, -1), (0, 1), (1, -1), (1, 0), (1, 1))\n",
    "\n",
    "def sum_neighbours(frame, i, j):\n",
    "    neighs_alive = 0\n",
    "    for m in M:\n",
    "        row_idx = m[0] + i\n",
    "        col_idx = m[1] + j\n",
    "        if 0 <= row_idx < NROW and 0 <= col_idx < NCOL:\n",
    "            if frame[row_idx, col_idx]:\n",
    "                neighs_alive += 1\n",
    "    return neighs_alive"
   ]
  },
  {
   "cell_type": "code",
   "execution_count": 5,
   "metadata": {},
   "outputs": [],
   "source": [
    "def evolve_frame(frame, n=5):\n",
    "    \"\"\" Using frame as initial state, evolve system for <n> steps using GoL rules \"\"\"\n",
    "    cur_frame = frame\n",
    "    for timestep in range(n):\n",
    "        new_frame = np.zeros((NROW, NCOL), dtype=int)\n",
    "        for i in range(NROW):\n",
    "            for j in range(NCOL):\n",
    "                alive_near = sum_neighbours(cur_frame, i, j)\n",
    "                if cur_frame[i, j] and alive_near == 2:\n",
    "                    new_frame[i, j] = 1\n",
    "                elif alive_near == 3:\n",
    "                    new_frame[i, j] = 1\n",
    "        cur_frame = new_frame\n",
    "    return cur_frame"
   ]
  },
  {
   "cell_type": "code",
   "execution_count": 80,
   "metadata": {},
   "outputs": [],
   "source": [
    "def generate_sample(delta=1, skip_first=6, ravel=True):\n",
    "    frame = generate_frame()\n",
    "    start_frame = evolve_frame(frame, skip_first)\n",
    "    end_frame = evolve_frame(start_frame, delta)\n",
    "    return (end_frame, start_frame) if not ravel else (end_frame.ravel(), start_frame.ravel())"
   ]
  },
  {
   "cell_type": "code",
   "execution_count": 81,
   "metadata": {},
   "outputs": [],
   "source": [
    "def generate_samples(n=32):\n",
    "    X = np.zeros((n, NROW * NCOL))\n",
    "    Y = np.zeros((n, NROW * NCOL))\n",
    "    for i in range(n):\n",
    "        x, y = generate_sample()\n",
    "        X[i, :] = x\n",
    "        Y[i, :] = y\n",
    "    return X, Y"
   ]
  },
  {
   "cell_type": "code",
   "execution_count": 82,
   "metadata": {},
   "outputs": [],
   "source": [
    "X, Y = generate_samples(10000)"
   ]
  },
  {
   "cell_type": "code",
   "execution_count": 47,
   "metadata": {},
   "outputs": [],
   "source": [
    "import sklearn\n",
    "from sklearn.ensemble import RandomForestClassifier"
   ]
  },
  {
   "cell_type": "code",
   "execution_count": 85,
   "metadata": {},
   "outputs": [],
   "source": [
    "rf = RandomForestClassifier(n_estimators=300, verbose=1, class_weight=\"balanced_subsample\")"
   ]
  },
  {
   "cell_type": "code",
   "execution_count": 86,
   "metadata": {},
   "outputs": [
    {
     "name": "stderr",
     "output_type": "stream",
     "text": [
      "[Parallel(n_jobs=1)]: Using backend SequentialBackend with 1 concurrent workers.\n",
      "[Parallel(n_jobs=1)]: Done 300 out of 300 | elapsed:  7.5min finished\n"
     ]
    },
    {
     "data": {
      "text/plain": [
       "RandomForestClassifier(bootstrap=True, class_weight='balanced_subsample',\n",
       "            criterion='gini', max_depth=None, max_features='auto',\n",
       "            max_leaf_nodes=None, min_impurity_decrease=0.0,\n",
       "            min_impurity_split=None, min_samples_leaf=1,\n",
       "            min_samples_split=2, min_weight_fraction_leaf=0.0,\n",
       "            n_estimators=300, n_jobs=None, oob_score=False,\n",
       "            random_state=None, verbose=1, warm_start=False)"
      ]
     },
     "execution_count": 86,
     "metadata": {},
     "output_type": "execute_result"
    }
   ],
   "source": [
    "rf.fit(X, Y)"
   ]
  },
  {
   "cell_type": "code",
   "execution_count": 14,
   "metadata": {},
   "outputs": [],
   "source": [
    "train_df = pd.read_csv(\"resources/train.csv\", index_col=0)\n",
    "test_df = pd.read_csv(\"resources/test.csv\", index_col=0)"
   ]
  },
  {
   "cell_type": "code",
   "execution_count": 15,
   "metadata": {},
   "outputs": [],
   "source": [
    "fst_delta = train_df[train_df.delta == 1]\n",
    "test_X, test_Y = fst_delta.iloc[:, 1:401], fst_delta.iloc[:, 401:]"
   ]
  },
  {
   "cell_type": "code",
   "execution_count": 87,
   "metadata": {},
   "outputs": [
    {
     "name": "stderr",
     "output_type": "stream",
     "text": [
      "[Parallel(n_jobs=1)]: Using backend SequentialBackend with 1 concurrent workers.\n",
      "[Parallel(n_jobs=1)]: Done 300 out of 300 | elapsed:  1.1min finished\n"
     ]
    }
   ],
   "source": [
    "Y_pred = rf.predict(test_X)"
   ]
  },
  {
   "cell_type": "code",
   "execution_count": 51,
   "metadata": {},
   "outputs": [],
   "source": [
    "from sklearn.metrics import mean_absolute_error"
   ]
  },
  {
   "cell_type": "code",
   "execution_count": 95,
   "metadata": {},
   "outputs": [
    {
     "data": {
      "text/plain": [
       "0.14085728744939272"
      ]
     },
     "execution_count": 95,
     "metadata": {},
     "output_type": "execute_result"
    }
   ],
   "source": [
    "mean_absolute_error(test_Y, Y_pred)"
   ]
  },
  {
   "cell_type": "code",
   "execution_count": 96,
   "metadata": {},
   "outputs": [],
   "source": [
    "X_submit = test_df.iloc[:, 1:]"
   ]
  },
  {
   "cell_type": "code",
   "execution_count": 68,
   "metadata": {},
   "outputs": [],
   "source": [
    "np.set_printoptions(threshold=np.nan)"
   ]
  },
  {
   "cell_type": "code",
   "execution_count": null,
   "metadata": {},
   "outputs": [],
   "source": [
    "submit_df = pd.DataFrame(Y_submit)\n",
    "submit_df.columns = ['start.'+str(i) for i in range(1, 401)]\n",
    "submit_df.index += 1\n",
    "submit_df.index.name = 'id'\n",
    "submit_df.head(n=1).astype(int).values"
   ]
  },
  {
   "cell_type": "code",
   "execution_count": 60,
   "metadata": {},
   "outputs": [],
   "source": [
    "submit_df.to_csv(\"rf_all_map.csv\")"
   ]
  }
 ],
 "metadata": {
  "kernelspec": {
   "display_name": "Python 3",
   "language": "python",
   "name": "python3"
  },
  "language_info": {
   "codemirror_mode": {
    "name": "ipython",
    "version": 3
   },
   "file_extension": ".py",
   "mimetype": "text/x-python",
   "name": "python",
   "nbconvert_exporter": "python",
   "pygments_lexer": "ipython3",
   "version": "3.6.2"
  }
 },
 "nbformat": 4,
 "nbformat_minor": 2
}
