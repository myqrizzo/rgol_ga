{
 "cells": [
  {
   "cell_type": "code",
   "execution_count": 58,
   "metadata": {},
   "outputs": [],
   "source": [
    "import numpy as np\n",
    "import pandas as pd\n",
    "import keras as ks\n",
    "from keras.models import Sequential\n",
    "from keras.layers import Dense, Dropout\n",
    "from keras.callbacks import EarlyStopping"
   ]
  },
  {
   "cell_type": "code",
   "execution_count": 59,
   "metadata": {},
   "outputs": [],
   "source": [
    "import pyximport\n",
    "pyximport.install(language_level=3)\n",
    "import life"
   ]
  },
  {
   "cell_type": "code",
   "execution_count": 113,
   "metadata": {},
   "outputs": [],
   "source": [
    "def create_model():\n",
    "    nn = Sequential()\n",
    "    nn.add(Dense(440, input_shape=(440,), activation='relu'))\n",
    "    nn.add(Dense(440, activation='relu'))\n",
    "    nn.add(Dense(440, activation='relu'))\n",
    "    nn.add(Dense(440, activation='sigmoid'))\n",
    "    nn.compile(optimizer='rmsprop', loss='binary_crossentropy', metrics=['accuracy', 'mae'])\n",
    "    return nn"
   ]
  },
  {
   "cell_type": "code",
   "execution_count": 114,
   "metadata": {},
   "outputs": [],
   "source": [
    "es = EarlyStopping(monitor='loss', patience=6, min_delta=0.01)"
   ]
  },
  {
   "cell_type": "code",
   "execution_count": 115,
   "metadata": {},
   "outputs": [
    {
     "name": "stdout",
     "output_type": "stream",
     "text": [
      "_________________________________________________________________\n",
      "Layer (type)                 Output Shape              Param #   \n",
      "=================================================================\n",
      "dense_17 (Dense)             (None, 440)               194040    \n",
      "_________________________________________________________________\n",
      "dense_18 (Dense)             (None, 440)               194040    \n",
      "_________________________________________________________________\n",
      "dense_19 (Dense)             (None, 440)               194040    \n",
      "_________________________________________________________________\n",
      "dense_20 (Dense)             (None, 440)               194040    \n",
      "=================================================================\n",
      "Total params: 776,160\n",
      "Trainable params: 776,160\n",
      "Non-trainable params: 0\n",
      "_________________________________________________________________\n"
     ]
    }
   ],
   "source": [
    "model = create_model()\n",
    "model.summary()"
   ]
  },
  {
   "cell_type": "code",
   "execution_count": 116,
   "metadata": {},
   "outputs": [],
   "source": [
    "NROW, NCOL = 20, 20\n",
    "\n",
    "def generate_samples(delta=1, n=32):\n",
    "    \"\"\"\n",
    "    Generate batch of samples\n",
    "    \n",
    "    @return: (end_frames, start_frames)\n",
    "    \"\"\"\n",
    "    batch = np.split(np.random.binomial(1, 0.5, (NROW * n, NCOL)).astype('uint8'), n)\n",
    "    Yy = [life.make_move(state, 5) for state in batch]\n",
    "    Xx = [life.make_move(state, 1) for state in Yy]\n",
    "    Y = np.array([y.ravel() for y in Yy])\n",
    "    X = np.array([x.ravel() for x in Xx])\n",
    "    return X, Y\n",
    "    \n",
    "\n",
    "def data_generator(delta=1, batch_size=32):\n",
    "    \"\"\"\n",
    "    Can be used along with .fit_generator to generate training samples on the fly\n",
    "    \"\"\"\n",
    "    while True:\n",
    "        batch = np.split(np.random.binomial(1, 0.5, (NROW * batch_size, NCOL)).astype('uint8'), batch_size)\n",
    "        Yy = [life.make_move(state, 5) for state in batch]\n",
    "        Xx = [life.make_move(state, delta) for state in Yy]\n",
    "\n",
    "        Y = np.array([np.concatenate((np.zeros((20, 1), 'uint8'), np.ones((20, 1), 'uint8'), y), axis=1).ravel() for y in Yy])\n",
    "        X = np.array([np.concatenate((np.zeros((20, 1), 'uint8'), np.ones((20, 1), 'uint8'), x), axis=1).ravel() for x in Xx])\n",
    "        yield X, Y"
   ]
  },
  {
   "cell_type": "code",
   "execution_count": 117,
   "metadata": {},
   "outputs": [
    {
     "name": "stdout",
     "output_type": "stream",
     "text": [
      "Epoch 1/50\n",
      " - 5s - loss: 0.4150 - acc: 0.7934 - mean_absolute_error: 0.3021\n",
      "Epoch 2/50\n",
      " - 5s - loss: 0.3828 - acc: 0.7956 - mean_absolute_error: 0.2772\n",
      "Epoch 3/50\n",
      " - 5s - loss: 0.3729 - acc: 0.7978 - mean_absolute_error: 0.2698\n",
      "Epoch 4/50\n",
      " - 5s - loss: 0.3656 - acc: 0.8007 - mean_absolute_error: 0.2642\n",
      "Epoch 5/50\n",
      " - 5s - loss: 0.3627 - acc: 0.8008 - mean_absolute_error: 0.2623\n",
      "Epoch 6/50\n",
      " - 5s - loss: 0.3583 - acc: 0.8031 - mean_absolute_error: 0.2587\n",
      "Epoch 7/50\n",
      " - 5s - loss: 0.3556 - acc: 0.8040 - mean_absolute_error: 0.2567\n",
      "Epoch 8/50\n",
      " - 5s - loss: 0.3535 - acc: 0.8045 - mean_absolute_error: 0.2552\n",
      "Epoch 9/50\n",
      " - 5s - loss: 0.3516 - acc: 0.8057 - mean_absolute_error: 0.2536\n",
      "Epoch 10/50\n",
      " - 5s - loss: 0.3495 - acc: 0.8067 - mean_absolute_error: 0.2520\n",
      "Epoch 11/50\n",
      " - 5s - loss: 0.3487 - acc: 0.8069 - mean_absolute_error: 0.2514\n",
      "Epoch 12/50\n",
      " - 5s - loss: 0.3471 - acc: 0.8077 - mean_absolute_error: 0.2502\n",
      "Epoch 13/50\n",
      " - 5s - loss: 0.3457 - acc: 0.8082 - mean_absolute_error: 0.2491\n",
      "Epoch 14/50\n",
      " - 5s - loss: 0.3451 - acc: 0.8087 - mean_absolute_error: 0.2486\n",
      "Epoch 15/50\n",
      " - 5s - loss: 0.3445 - acc: 0.8091 - mean_absolute_error: 0.2481\n",
      "Epoch 16/50\n",
      " - 5s - loss: 0.3438 - acc: 0.8095 - mean_absolute_error: 0.2476\n",
      "Epoch 17/50\n",
      " - 5s - loss: 0.3428 - acc: 0.8099 - mean_absolute_error: 0.2468\n",
      "Epoch 18/50\n",
      " - 5s - loss: 0.3421 - acc: 0.8106 - mean_absolute_error: 0.2462\n",
      "Epoch 19/50\n",
      " - 5s - loss: 0.3407 - acc: 0.8114 - mean_absolute_error: 0.2451\n",
      "Epoch 20/50\n",
      " - 5s - loss: 0.3403 - acc: 0.8113 - mean_absolute_error: 0.2448\n",
      "Epoch 21/50\n",
      " - 5s - loss: 0.3404 - acc: 0.8114 - mean_absolute_error: 0.2450\n",
      "Epoch 22/50\n",
      " - 5s - loss: 0.3392 - acc: 0.8121 - mean_absolute_error: 0.2439\n",
      "Epoch 23/50\n",
      " - 5s - loss: 0.3398 - acc: 0.8118 - mean_absolute_error: 0.2445\n",
      "Epoch 24/50\n",
      " - 5s - loss: 0.3399 - acc: 0.8118 - mean_absolute_error: 0.2445\n",
      "Epoch 25/50\n",
      " - 5s - loss: 0.3390 - acc: 0.8122 - mean_absolute_error: 0.2438\n",
      "Epoch 26/50\n",
      " - 5s - loss: 0.3386 - acc: 0.8127 - mean_absolute_error: 0.2434\n",
      "Epoch 27/50\n",
      " - 4s - loss: 0.3380 - acc: 0.8130 - mean_absolute_error: 0.2430\n",
      "Epoch 28/50\n",
      " - 6s - loss: 0.3377 - acc: 0.8132 - mean_absolute_error: 0.2427\n",
      "Epoch 29/50\n",
      " - 5s - loss: 0.3377 - acc: 0.8136 - mean_absolute_error: 0.2426\n",
      "Epoch 30/50\n",
      " - 5s - loss: 0.3377 - acc: 0.8133 - mean_absolute_error: 0.2426\n",
      "Epoch 31/50\n",
      " - 4s - loss: 0.3378 - acc: 0.8133 - mean_absolute_error: 0.2427\n",
      "Epoch 32/50\n",
      " - 5s - loss: 0.3370 - acc: 0.8133 - mean_absolute_error: 0.2422\n",
      "Epoch 33/50\n",
      " - 5s - loss: 0.3362 - acc: 0.8142 - mean_absolute_error: 0.2415\n",
      "Epoch 34/50\n",
      " - 5s - loss: 0.3365 - acc: 0.8138 - mean_absolute_error: 0.2417\n",
      "Epoch 35/50\n",
      " - 5s - loss: 0.3361 - acc: 0.8146 - mean_absolute_error: 0.2412\n",
      "Epoch 36/50\n",
      " - 4s - loss: 0.3356 - acc: 0.8144 - mean_absolute_error: 0.2410\n",
      "Epoch 37/50\n",
      " - 4s - loss: 0.3369 - acc: 0.8141 - mean_absolute_error: 0.2419\n",
      "Epoch 38/50\n",
      " - 4s - loss: 0.3354 - acc: 0.8149 - mean_absolute_error: 0.2407\n",
      "Epoch 39/50\n",
      " - 4s - loss: 0.3358 - acc: 0.8146 - mean_absolute_error: 0.2410\n",
      "Epoch 40/50\n",
      " - 5s - loss: 0.3355 - acc: 0.8150 - mean_absolute_error: 0.2407\n",
      "Epoch 41/50\n",
      " - 4s - loss: 0.3351 - acc: 0.8150 - mean_absolute_error: 0.2406\n",
      "Epoch 42/50\n",
      " - 4s - loss: 0.3355 - acc: 0.8150 - mean_absolute_error: 0.2407\n",
      "Epoch 43/50\n",
      " - 4s - loss: 0.3353 - acc: 0.8150 - mean_absolute_error: 0.2405\n",
      "Epoch 44/50\n",
      " - 4s - loss: 0.3348 - acc: 0.8153 - mean_absolute_error: 0.2402\n",
      "Epoch 45/50\n",
      " - 4s - loss: 0.3358 - acc: 0.8146 - mean_absolute_error: 0.2410\n",
      "Epoch 46/50\n",
      " - 5s - loss: 0.3348 - acc: 0.8154 - mean_absolute_error: 0.2401\n",
      "Epoch 47/50\n",
      " - 5s - loss: 0.3351 - acc: 0.8152 - mean_absolute_error: 0.2404\n",
      "Epoch 48/50\n",
      " - 5s - loss: 0.3350 - acc: 0.8153 - mean_absolute_error: 0.2403\n",
      "Epoch 49/50\n",
      " - 5s - loss: 0.3343 - acc: 0.8156 - mean_absolute_error: 0.2397\n",
      "Epoch 50/50\n",
      " - 5s - loss: 0.3365 - acc: 0.8143 - mean_absolute_error: 0.2415\n"
     ]
    },
    {
     "data": {
      "text/plain": [
       "<keras.callbacks.History at 0x1427c1668>"
      ]
     },
     "execution_count": 117,
     "metadata": {},
     "output_type": "execute_result"
    }
   ],
   "source": [
    "model.fit_generator(data_generator(), steps_per_epoch=500, epochs=50, verbose=2, class_weight={0: 0.1, 1:0.9})"
   ]
  },
  {
   "cell_type": "code",
   "execution_count": 118,
   "metadata": {},
   "outputs": [],
   "source": [
    "X, Y = generate_samples()"
   ]
  },
  {
   "cell_type": "code",
   "execution_count": 119,
   "metadata": {},
   "outputs": [],
   "source": [
    "xtest = X[0].reshape((20, 20))"
   ]
  },
  {
   "cell_type": "code",
   "execution_count": 120,
   "metadata": {},
   "outputs": [],
   "source": [
    "ytest = Y[0].reshape((20, 20))"
   ]
  },
  {
   "cell_type": "code",
   "execution_count": 121,
   "metadata": {},
   "outputs": [],
   "source": [
    "from viz import show_field"
   ]
  },
  {
   "cell_type": "code",
   "execution_count": 122,
   "metadata": {},
   "outputs": [
    {
     "data": {
      "image/png": "[encoded data removed]",
      "text/plain": [
       "<Figure size 432x288 with 1 Axes>"
      ]
     },
     "metadata": {},
     "output_type": "display_data"
    }
   ],
   "source": [
    "show_field(xtest)"
   ]
  },
  {
   "cell_type": "code",
   "execution_count": 123,
   "metadata": {},
   "outputs": [
    {
     "data": {
      "image/png": "[encoded data removed]",
      "text/plain": [
       "<Figure size 432x288 with 1 Axes>"
      ]
     },
     "metadata": {},
     "output_type": "display_data"
    }
   ],
   "source": [
    "show_field(ytest)"
   ]
  },
  {
   "cell_type": "code",
   "execution_count": 124,
   "metadata": {},
   "outputs": [],
   "source": [
    "xt = np.concatenate((np.zeros((20, 1), 'uint8'), np.ones((20, 1), 'uint8'), xtest), axis=1).ravel()"
   ]
  },
  {
   "cell_type": "code",
   "execution_count": 125,
   "metadata": {},
   "outputs": [
    {
     "data": {
      "image/png": "[encoded data removed]",
      "text/plain": [
       "<Figure size 432x288 with 1 Axes>"
      ]
     },
     "metadata": {},
     "output_type": "display_data"
    }
   ],
   "source": [
    "y_pred = model.predict(xt[np.newaxis, :]).round(0).reshape((20, 22))\n",
    "show_field(y_pred.reshape((20, 22))[:, 2:].ravel())"
   ]
  },
  {
   "cell_type": "code",
   "execution_count": 20,
   "metadata": {},
   "outputs": [],
   "source": [
    "submit_df = pd.DataFrame(index=test_df.index, columns=['start.' + str(_) for _ in range(1, 401)])"
   ]
  },
  {
   "cell_type": "code",
   "execution_count": 26,
   "metadata": {},
   "outputs": [],
   "source": [
    "# submit_df[test_df.delta == 1] = models[1].predict(test_df[test_df.delta == 1])\n",
    "for delta in range(1, 6):\n",
    "    submit_df[test_df.delta == delta] = models[delta].predict(test_df[test_df.delta == delta].iloc[:, 1:]).round(0)"
   ]
  },
  {
   "cell_type": "code",
   "execution_count": 28,
   "metadata": {},
   "outputs": [],
   "source": [
    "submit_df.to_csv('nn_submit.csv')"
   ]
  }
 ],
 "metadata": {
  "kernelspec": {
   "display_name": "Python 3",
   "language": "python",
   "name": "python3"
  },
  "language_info": {
   "codemirror_mode": {
    "name": "ipython",
    "version": 3
   },
   "file_extension": ".py",
   "mimetype": "text/x-python",
   "name": "python",
   "nbconvert_exporter": "python",
   "pygments_lexer": "ipython3",
   "version": "3.6.2"
  }
 },
 "nbformat": 4,
 "nbformat_minor": 2
}
