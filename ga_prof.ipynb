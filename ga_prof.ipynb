{
 "cells": [
  {
   "cell_type": "code",
   "execution_count": 1,
   "metadata": {},
   "outputs": [],
   "source": [
    "import numpy as np\n",
    "import pandas as pd\n",
    "from viz import show_field\n",
    "from GeneticSolver import GeneticSolver"
   ]
  },
  {
   "cell_type": "code",
   "execution_count": 2,
   "metadata": {},
   "outputs": [],
   "source": [
    "df = pd.read_csv('resources/train.csv', index_col='id')\n",
    "sample = df[df.delta == 3].sample(random_state=42)\n",
    "X, Y = sample.values[:, 1:401].reshape((20, 20)), sample.values[:, 401:].reshape((20, 20))"
   ]
  },
  {
   "cell_type": "code",
   "execution_count": 3,
   "metadata": {},
   "outputs": [],
   "source": [
    "gs = GeneticSolver(population_size=100, n_generations=100, verbosity=1, random_state=42, fitness_parallel=True)"
   ]
  },
  {
   "cell_type": "code",
   "execution_count": 5,
   "metadata": {},
   "outputs": [],
   "source": [
    "%load_ext line_profiler"
   ]
  },
  {
   "cell_type": "code",
   "execution_count": 6,
   "metadata": {},
   "outputs": [
    {
     "name": "stdout",
     "output_type": "stream",
     "text": [
      "Generation #: best score\n",
      "Generation 20: 0.78\n",
      "Generation 40: 0.795\n",
      "Generation 60: 0.7975\n",
      "Generation 80: 0.82\n"
     ]
    },
    {
     "data": {
      "text/plain": [
       "Timer unit: 1e-06 s\n",
       "\n",
       "Total time: 16.0202 s\n",
       "File: /Users/ptyshevs/uf/rgol/GeneticSolver.py\n",
       "Function: evolve at line 106\n",
       "\n",
       "Line #      Hits         Time  Per Hit   % Time  Line Contents\n",
       "==============================================================\n",
       "   106                                               def evolve(self, Y, delta):\n",
       "   107                                                   \"\"\"\n",
       "   108                                                   Evolution step\n",
       "   109                                                   :param Y: 20x20 array that represents field in stopping condition\n",
       "   110                                                   :param delta: number of steps to revert\n",
       "   111                                                   :return: new generation of the same size along with scores of the best retained individuals\n",
       "   112                                                   \"\"\"\n",
       "   113       100        145.0      1.4      0.0          if self.fitness_parallel:\n",
       "   114       100   15929409.0 159294.1     99.4            scores = np.array(self.parallel_score_population(self._population, Y, delta))\n",
       "   115                                                   else:\n",
       "   116                                                     scores = np.array(self.score_population(self._population, Y, delta))\n",
       "   117       100        549.0      5.5      0.0          retain_len = int(len(scores) * self.retain_best)\n",
       "   118       100       1623.0     16.2      0.0          sorted_indices = np.argsort(scores)[::-1]\n",
       "   119       100       4214.0     42.1      0.0          self._population = [self._population[idx] for idx in sorted_indices]\n",
       "   120       100        263.0      2.6      0.0          best_scores = scores[sorted_indices][:retain_len]\n",
       "   121       100         99.0      1.0      0.0          if self.verbosity > 1:\n",
       "   122                                                       print(\"best scores:\", best_scores)\n",
       "   123       100        181.0      1.8      0.0          parents = self._population[:retain_len]\n",
       "   124       100        130.0      1.3      0.0          leftovers = self._population[retain_len:]\n",
       "   125                                           \n",
       "   126       100        111.0      1.1      0.0          cnt_degenerate = 0\n",
       "   127      2177       1787.0      0.8      0.0          for gene in leftovers:\n",
       "   128      2077       3384.0      1.6      0.0              if np.random.rand() < self.retain_random:\n",
       "   129       132        126.0      1.0      0.0                  cnt_degenerate += 1\n",
       "   130       132        193.0      1.5      0.0                  parents.append(gene)\n",
       "   131       100         82.0      0.8      0.0          if self.verbosity > 1:\n",
       "   132                                                       print(f\"# of degenerates left: {cnt_degenerate}\")\n",
       "   133                                           \n",
       "   134       100         87.0      0.9      0.0          cnt_mutations = 0\n",
       "   135      8186       6532.0      0.8      0.0          for gene in parents[1:]:  # mutate everyone expecting for the best candidate\n",
       "   136      8086      11245.0      1.4      0.1              if np.random.rand() < self.mutate_chance:\n",
       "   137       405      12636.0     31.2      0.1                  self.mutate(gene)\n",
       "   138       405        423.0      1.0      0.0                  cnt_mutations += 1\n",
       "   139       100         93.0      0.9      0.0          if self.verbosity > 1:\n",
       "   140                                                       print(f\"# of mutations: {cnt_mutations}\")\n",
       "   141                                           \n",
       "   142       100        105.0      1.1      0.0          places_left = self.population_size - retain_len\n",
       "   143       100         90.0      0.9      0.0          children = []\n",
       "   144      1105       1005.0      0.9      0.0          while len(children) < places_left:\n",
       "   145      1005       5877.0      5.8      0.0              mom_idx, dad_idx = np.random.randint(0, retain_len - 1, 2)\n",
       "   146      1005       1021.0      1.0      0.0              if mom_idx != dad_idx:\n",
       "   147       992      35350.0     35.6      0.2                  child1, child2 = self.crossover(parents[mom_idx], parents[dad_idx])\n",
       "   148       992       1106.0      1.1      0.0                  children.append(child1)\n",
       "   149       992       1015.0      1.0      0.0                  if len(children) < places_left:\n",
       "   150       954        838.0      0.9      0.0                      children.append(child2)\n",
       "   151       100         98.0      1.0      0.0          if self.verbosity > 1:\n",
       "   152                                                       print(f\"# of children: {len(children)}\")\n",
       "   153       100        335.0      3.4      0.0          parents.extend(children)\n",
       "   154       100         76.0      0.8      0.0          return parents, best_scores"
      ]
     },
     "metadata": {},
     "output_type": "display_data"
    }
   ],
   "source": [
    "%lprun -f gs.evolve gs.solve(Y, 3)"
   ]
  }
 ],
 "metadata": {
  "kernelspec": {
   "display_name": "Python 3",
   "language": "python",
   "name": "python3"
  },
  "language_info": {
   "codemirror_mode": {
    "name": "ipython",
    "version": 3
   },
   "file_extension": ".py",
   "mimetype": "text/x-python",
   "name": "python",
   "nbconvert_exporter": "python",
   "pygments_lexer": "ipython3",
   "version": "3.6.2"
  }
 },
 "nbformat": 4,
 "nbformat_minor": 2
}
