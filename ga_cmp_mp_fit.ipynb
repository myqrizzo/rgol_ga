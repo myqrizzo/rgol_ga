{
 "cells": [
  {
   "cell_type": "code",
   "execution_count": 5,
   "metadata": {},
   "outputs": [],
   "source": [
    "import numpy as np\n",
    "import pandas as pd\n",
    "from viz import show_field\n",
    "from GeneticSolver import GeneticSolver"
   ]
  },
  {
   "cell_type": "code",
   "execution_count": 6,
   "metadata": {},
   "outputs": [],
   "source": [
    "df = pd.read_csv('resources/train.csv', index_col='id')\n",
    "sample = df[df.delta == 3].sample(random_state=42)\n",
    "X, Y = sample.values[:, 1:401].reshape((20, 20)), sample.values[:, 401:].reshape((20, 20))"
   ]
  },
  {
   "cell_type": "code",
   "execution_count": null,
   "metadata": {},
   "outputs": [],
   "source": [
    "gs = GeneticSolver(fitness_parallel=False, n_generations=50, random_state=42)"
   ]
  },
  {
   "cell_type": "code",
   "execution_count": 6,
   "metadata": {},
   "outputs": [
    {
     "name": "stdout",
     "output_type": "stream",
     "text": [
      "58.2 s ± 862 ms per loop (mean ± std. dev. of 7 runs, 1 loop each)\n"
     ]
    }
   ],
   "source": [
    "%%timeit\n",
    "gs.solve(Y, 3)"
   ]
  },
  {
   "cell_type": "code",
   "execution_count": 3,
   "metadata": {},
   "outputs": [],
   "source": [
    "gs2 = GeneticSolver(fitness_parallel=True, n_generations=50, random_state=42, verbosity=1)"
   ]
  },
  {
   "cell_type": "code",
   "execution_count": 4,
   "metadata": {},
   "outputs": [
    {
     "name": "stdout",
     "output_type": "stream",
     "text": [
      "17.2 s ± 936 ms per loop (mean ± std. dev. of 7 runs, 1 loop each)\n"
     ]
    }
   ],
   "source": [
    "%%timeit\n",
    "gs2.solve(Y, 3)"
   ]
  },
  {
   "cell_type": "code",
   "execution_count": 5,
   "metadata": {},
   "outputs": [],
   "source": [
    "gs2.warm_start = True"
   ]
  },
  {
   "cell_type": "code",
   "execution_count": 6,
   "metadata": {},
   "outputs": [
    {
     "name": "stdout",
     "output_type": "stream",
     "text": [
      "Generation #: best score\n",
      "Generation 1: 0.8\n",
      "Generation 2: 0.8\n",
      "Generation 3: 0.8\n",
      "Generation 4: 0.8\n",
      "Generation 5: 0.8\n",
      "Generation 6: 0.8\n",
      "Generation 7: 0.8\n",
      "Generation 8: 0.8\n",
      "Generation 9: 0.8\n",
      "Generation 10: 0.8\n",
      "Generation 11: 0.81\n",
      "Generation 12: 0.81\n",
      "Generation 13: 0.81\n",
      "Generation 14: 0.81\n",
      "Generation 15: 0.81\n",
      "Generation 16: 0.81\n",
      "Generation 17: 0.81\n",
      "Generation 18: 0.81\n",
      "Generation 19: 0.81\n",
      "Generation 20: 0.81\n",
      "Generation 21: 0.81\n",
      "Generation 22: 0.81\n",
      "Generation 23: 0.81\n",
      "Generation 24: 0.81\n",
      "Generation 25: 0.81\n",
      "Generation 26: 0.81\n",
      "Generation 27: 0.81\n",
      "Generation 28: 0.81\n",
      "Generation 29: 0.81\n",
      "Generation 30: 0.81\n",
      "Generation 31: 0.81\n",
      "Generation 32: 0.81\n",
      "Generation 33: 0.81\n",
      "Generation 34: 0.81\n",
      "Generation 35: 0.81\n",
      "Generation 36: 0.81\n",
      "Generation 37: 0.81\n",
      "Generation 38: 0.81\n",
      "Generation 39: 0.81\n",
      "Generation 40: 0.81\n",
      "Generation 41: 0.81\n",
      "Generation 42: 0.81\n",
      "Generation 43: 0.81\n",
      "Generation 44: 0.81\n",
      "Generation 45: 0.81\n",
      "Generation 46: 0.81\n",
      "Generation 47: 0.81\n",
      "Generation 48: 0.8125\n",
      "Generation 49: 0.8125\n"
     ]
    }
   ],
   "source": [
    "res = gs2.solve(Y, 3)"
   ]
  },
  {
   "cell_type": "code",
   "execution_count": null,
   "metadata": {},
   "outputs": [],
   "source": []
  }
 ],
 "metadata": {
  "kernelspec": {
   "display_name": "Python 3",
   "language": "python",
   "name": "python3"
  },
  "language_info": {
   "codemirror_mode": {
    "name": "ipython",
    "version": 3
   },
   "file_extension": ".py",
   "mimetype": "text/x-python",
   "name": "python",
   "nbconvert_exporter": "python",
   "pygments_lexer": "ipython3",
   "version": "3.6.2"
  }
 },
 "nbformat": 4,
 "nbformat_minor": 2
}
