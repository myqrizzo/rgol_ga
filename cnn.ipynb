{
 "cells": [
  {
   "cell_type": "code",
   "execution_count": 5,
   "metadata": {},
   "outputs": [],
   "source": [
    "import numpy as np\n",
    "import pandas as pd\n",
    "import keras as ks\n",
    "from keras.models import Sequential\n",
    "from keras.layers import Dense, Dropout, Conv2D, MaxPool2D, Flatten\n",
    "from keras.callbacks import EarlyStopping, ModelCheckpoint"
   ]
  },
  {
   "cell_type": "code",
   "execution_count": 4,
   "metadata": {},
   "outputs": [],
   "source": [
    "import pyximport\n",
    "pyximport.install(language_level=3)\n",
    "import life"
   ]
  },
  {
   "cell_type": "code",
   "execution_count": 51,
   "metadata": {},
   "outputs": [],
   "source": [
    "a = np.array([[1, 2],[3, 4]])"
   ]
  },
  {
   "cell_type": "code",
   "execution_count": 53,
   "metadata": {},
   "outputs": [
    {
     "data": {
      "text/plain": [
       "array([[1, 3, 2, 4]])"
      ]
     },
     "execution_count": 53,
     "metadata": {},
     "output_type": "execute_result"
    }
   ],
   "source": [
    "a.reshape(1, -1, order='F')"
   ]
  },
  {
   "cell_type": "code",
   "execution_count": 120,
   "metadata": {},
   "outputs": [],
   "source": [
    "def create_model():\n",
    "    nn = Sequential()\n",
    "    nn.add(Conv2D(400, 3, padding='same', activation='relu', input_shape=(20, 20, 1)))\n",
    "    nn.add(Conv2D(64, 3, padding='same', activation='relu'))\n",
    "    nn.add(Conv2D(64, 3, padding='same', activation='relu'))\n",
    "    nn.add(Conv2D(1, 3, padding='same', activation='sigmoid'))\n",
    "#     nn.add(MaxPool2D())\n",
    "#     nn.add(Conv2D(400, 3, activation='relu'))\n",
    "#     nn.add(Conv2D(32, 3, activation='relu'))\n",
    "#     nn.add(MaxPool2D())\n",
    "#     nn.add(Conv2D(32, 3, activation='relu'))\n",
    "#     nn.add(Conv2D(64, 3, activation='relu'))\n",
    "#     nn.add(Dense(400, activation='relu'))\n",
    "#     nn.add(Dense(400, activation='relu'))\n",
    "#     nn.add(Dense(400, activation='sigmoid'))\n",
    "    nn.compile(optimizer='adam', loss='binary_crossentropy', metrics=['accuracy', 'mae'])\n",
    "    return nn"
   ]
  },
  {
   "cell_type": "code",
   "execution_count": 121,
   "metadata": {},
   "outputs": [],
   "source": [
    "es = EarlyStopping(monitor='loss', patience=6, min_delta=0.01)\n",
    "check = ModelCheckpoint('weights.{epoch:02d}-{acc:.2f}.hdf5', monitor='acc', save_best_only=True)"
   ]
  },
  {
   "cell_type": "code",
   "execution_count": 122,
   "metadata": {},
   "outputs": [
    {
     "name": "stdout",
     "output_type": "stream",
     "text": [
      "_________________________________________________________________\n",
      "Layer (type)                 Output Shape              Param #   \n",
      "=================================================================\n",
      "conv2d_56 (Conv2D)           (None, 20, 20, 400)       4000      \n",
      "_________________________________________________________________\n",
      "conv2d_57 (Conv2D)           (None, 20, 20, 64)        230464    \n",
      "_________________________________________________________________\n",
      "conv2d_58 (Conv2D)           (None, 20, 20, 64)        36928     \n",
      "_________________________________________________________________\n",
      "conv2d_59 (Conv2D)           (None, 20, 20, 1)         577       \n",
      "=================================================================\n",
      "Total params: 271,969\n",
      "Trainable params: 271,969\n",
      "Non-trainable params: 0\n",
      "_________________________________________________________________\n"
     ]
    }
   ],
   "source": [
    "model = create_model()\n",
    "model.summary()"
   ]
  },
  {
   "cell_type": "code",
   "execution_count": 123,
   "metadata": {},
   "outputs": [],
   "source": [
    "NROW, NCOL = 20, 20\n",
    "\n",
    "def generate_samples(delta=1, n=32):\n",
    "    \"\"\"\n",
    "    Generate batch of samples\n",
    "    \n",
    "    @return: (end_frames, start_frames)\n",
    "    \"\"\"\n",
    "    batch = np.split(np.random.binomial(1, 0.5, (NROW * n, NCOL)).astype('uint8'), n)\n",
    "    Yy = [life.make_move(state, 5) for state in batch]\n",
    "    Xx = [life.make_move(state, 1) for state in Yy]\n",
    "    Y = np.array([y.ravel() for y in Yy])\n",
    "    X = np.array([x.ravel() for x in Xx])\n",
    "    return X, Y\n",
    "    \n",
    "\n",
    "def data_generator(delta=1, batch_size=32, ravel=True):\n",
    "    \"\"\"\n",
    "    Can be used along with .fit_generator to generate training samples on the fly\n",
    "    \"\"\"\n",
    "    while True:\n",
    "        batch = np.split(np.random.binomial(1, 0.5, (NROW * batch_size, NCOL)).astype('uint8'), batch_size)\n",
    "        Yy = [life.make_move(state, 5) for state in batch]\n",
    "        Xx = [life.make_move(state, delta) for state in Yy]\n",
    "\n",
    "        if ravel:\n",
    "            Y = np.array([y.ravel() for y in Yy])\n",
    "            X = np.array([x.ravel() for x in Xx])\n",
    "            yield X, Y\n",
    "        else:\n",
    "            yield np.array(Xx)[:,:, :, np.newaxis], np.array(Yy)[:, :, :, np.newaxis]"
   ]
  },
  {
   "cell_type": "code",
   "execution_count": 124,
   "metadata": {},
   "outputs": [
    {
     "name": "stdout",
     "output_type": "stream",
     "text": [
      "Epoch 1/20\n",
      "500/500 [==============================] - 98s 196ms/step - loss: 0.3446 - acc: 0.8479 - mean_absolute_error: 0.2184\n",
      "Epoch 2/20\n",
      "500/500 [==============================] - 96s 191ms/step - loss: 0.3085 - acc: 0.8666 - mean_absolute_error: 0.1911\n",
      "Epoch 3/20\n",
      "500/500 [==============================] - 94s 187ms/step - loss: 0.3026 - acc: 0.8696 - mean_absolute_error: 0.1867\n",
      "Epoch 4/20\n",
      "500/500 [==============================] - 92s 183ms/step - loss: 0.2986 - acc: 0.8715 - mean_absolute_error: 0.1839\n",
      "Epoch 5/20\n",
      "500/500 [==============================] - 98s 197ms/step - loss: 0.2967 - acc: 0.8724 - mean_absolute_error: 0.1826\n",
      "Epoch 6/20\n",
      "500/500 [==============================] - 96s 192ms/step - loss: 0.2942 - acc: 0.8738 - mean_absolute_error: 0.1807\n",
      "Epoch 7/20\n",
      "500/500 [==============================] - 101s 201ms/step - loss: 0.2931 - acc: 0.8743 - mean_absolute_error: 0.1799\n",
      "Epoch 8/20\n",
      "500/500 [==============================] - 105s 210ms/step - loss: 0.2911 - acc: 0.8751 - mean_absolute_error: 0.1786\n",
      "Epoch 9/20\n",
      "500/500 [==============================] - 96s 191ms/step - loss: 0.2910 - acc: 0.8754 - mean_absolute_error: 0.1784\n",
      "Epoch 10/20\n",
      "500/500 [==============================] - 95s 191ms/step - loss: 0.2890 - acc: 0.8763 - mean_absolute_error: 0.1771\n",
      "Epoch 11/20\n",
      "500/500 [==============================] - 98s 195ms/step - loss: 0.2892 - acc: 0.8763 - mean_absolute_error: 0.1772\n"
     ]
    },
    {
     "data": {
      "text/plain": [
       "<keras.callbacks.History at 0x1445e3cc0>"
      ]
     },
     "execution_count": 124,
     "metadata": {},
     "output_type": "execute_result"
    }
   ],
   "source": [
    "model.fit_generator(data_generator(ravel=False), steps_per_epoch=500, epochs=20, verbose=1, callbacks=[es, check])"
   ]
  },
  {
   "cell_type": "code",
   "execution_count": 90,
   "metadata": {},
   "outputs": [],
   "source": [
    "train_df = pd.read_csv('resources/train.csv', index_col=0)"
   ]
  },
  {
   "cell_type": "code",
   "execution_count": 125,
   "metadata": {},
   "outputs": [],
   "source": [
    "train_pred = model.predict(train_df.iloc[:, 401:].values.reshape(-1, 20, 20, 1)).round(0).astype('uint8')"
   ]
  },
  {
   "cell_type": "code",
   "execution_count": 118,
   "metadata": {},
   "outputs": [
    {
     "data": {
      "image/png": "[encoded data removed]",
      "text/plain": [
       "<Figure size 432x288 with 1 Axes>"
      ]
     },
     "metadata": {},
     "output_type": "display_data"
    }
   ],
   "source": [
    "from viz import show_field\n",
    "show_field(train_df.iloc[1, 1:401].values)"
   ]
  },
  {
   "cell_type": "code",
   "execution_count": 119,
   "metadata": {},
   "outputs": [
    {
     "data": {
      "image/png": "[encoded data removed]",
      "text/plain": [
       "<Figure size 432x288 with 1 Axes>"
      ]
     },
     "metadata": {},
     "output_type": "display_data"
    }
   ],
   "source": [
    "show_field(train_pred[1])"
   ]
  },
  {
   "cell_type": "code",
   "execution_count": 126,
   "metadata": {},
   "outputs": [],
   "source": [
    "v = (train_pred == train_df.iloc[:, 1:401].values.reshape(-1, 20, 20, 1))"
   ]
  },
  {
   "cell_type": "code",
   "execution_count": 127,
   "metadata": {},
   "outputs": [
    {
     "data": {
      "text/plain": [
       "0.865594"
      ]
     },
     "execution_count": 127,
     "metadata": {},
     "output_type": "execute_result"
    }
   ],
   "source": [
    "v.sum() / (v.shape[0] * v.shape[1] * v.shape[2])"
   ]
  },
  {
   "cell_type": "code",
   "execution_count": 41,
   "metadata": {},
   "outputs": [
    {
     "data": {
      "text/plain": [
       "0.8549888663967611"
      ]
     },
     "execution_count": 41,
     "metadata": {},
     "output_type": "execute_result"
    }
   ],
   "source": [
    "v = (np.zeros_like(pred) == single_delta.iloc[:, 1:401]).values\n",
    "v.sum() / (v.shape[0] * v.shape[1])"
   ]
  },
  {
   "cell_type": "code",
   "execution_count": 23,
   "metadata": {},
   "outputs": [],
   "source": [
    "test_df = pd.read_csv('resources/test.csv', index_col=0)"
   ]
  },
  {
   "cell_type": "code",
   "execution_count": 24,
   "metadata": {},
   "outputs": [],
   "source": [
    "submit_df = pd.DataFrame(model.predict(test_df.iloc[:, 1:]).round(0).astype('uint8'), \n",
    "                         index=test_df.index, columns=['start.' + str(_) for _ in range(1, 401)])"
   ]
  },
  {
   "cell_type": "code",
   "execution_count": 25,
   "metadata": {},
   "outputs": [],
   "source": [
    "submit_df.to_csv('nn_submit_v2.csv')"
   ]
  }
 ],
 "metadata": {
  "kernelspec": {
   "display_name": "Python 3",
   "language": "python",
   "name": "python3"
  },
  "language_info": {
   "codemirror_mode": {
    "name": "ipython",
    "version": 3
   },
   "file_extension": ".py",
   "mimetype": "text/x-python",
   "name": "python",
   "nbconvert_exporter": "python",
   "pygments_lexer": "ipython3",
   "version": "3.7.3"
  }
 },
 "nbformat": 4,
 "nbformat_minor": 4
}
