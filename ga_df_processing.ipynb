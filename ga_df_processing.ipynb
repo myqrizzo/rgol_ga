{
 "cells": [
  {
   "cell_type": "code",
   "execution_count": 15,
   "metadata": {},
   "outputs": [],
   "source": [
    "import pandas as pd\n",
    "import numpy as np\n",
    "from viz import show_field\n",
    "from tools import make_move"
   ]
  },
  {
   "cell_type": "code",
   "execution_count": 2,
   "metadata": {},
   "outputs": [],
   "source": [
    "df = pd.read_csv('resources/test.csv', index_col='id')"
   ]
  },
  {
   "cell_type": "code",
   "execution_count": 3,
   "metadata": {},
   "outputs": [],
   "source": [
    "from GeneticSolver import GeneticSolver\n",
    "from MPGeneticSolver import MPGeneticSolver"
   ]
  },
  {
   "cell_type": "code",
   "execution_count": 4,
   "metadata": {},
   "outputs": [],
   "source": [
    "mpgs = MPGeneticSolver(early_stopping=False)"
   ]
  },
  {
   "cell_type": "code",
   "execution_count": 20,
   "metadata": {},
   "outputs": [],
   "source": [
    "solution_df = pd.DataFrame([], columns=['id', 'score'] + ['start.'+ str(_) for _ in range(1, 401)], dtype=int)"
   ]
  },
  {
   "cell_type": "code",
   "execution_count": 26,
   "metadata": {},
   "outputs": [],
   "source": [
    "for col in solution_df.columns:\n",
    "    solution_df[col] = solution_df[col].astype(np.int32)"
   ]
  },
  {
   "cell_type": "code",
   "execution_count": 28,
   "metadata": {},
   "outputs": [
    {
     "name": "stdout",
     "output_type": "stream",
     "text": [
      "1 is solved with score 1.0. Average score: 1.0\n",
      "Best score: (1, 1.0)\n",
      "Worst score: (1, 1.0)\n"
     ]
    }
   ],
   "source": [
    "running_avg, n = 0, 0\n",
    "log = []\n",
    "best, worst = None, None\n",
    "for id, (idx, row) in zip(df.index, df.iterrows()):\n",
    "    delta, Y = row.values[0], row.values[1:].reshape((20, 20)).astype('uint8')\n",
    "    solution = mpgs.solve(Y, delta, return_all=False)\n",
    "\n",
    "    board, score = solution\n",
    "    flat_board = np.insert(board.ravel(), 0, id)\n",
    "    flat_board = np.insert(flat_board, 1, int(score * 100))\n",
    "    solution_df = solution_df.append(pd.Series(flat_board, index=solution_df.columns), ignore_index=True)\n",
    "\n",
    "    log.append((idx, score))\n",
    "    if best is None or best[1] < score:\n",
    "        best = (idx, score)\n",
    "    if worst is None or worst[1] > score:\n",
    "        worst = (idx, score)\n",
    "    n += 1\n",
    "    running_avg = (running_avg * (n - 1) + score) / n\n",
    "    print(f\"{idx} is solved with score {score}. Average score: {running_avg}\")\n",
    "    if idx > 0:\n",
    "        break\n",
    "print(\"Best score:\", best)\n",
    "print(\"Worst score:\", worst)"
   ]
  },
  {
   "cell_type": "code",
   "execution_count": 29,
   "metadata": {},
   "outputs": [
    {
     "data": {
      "text/html": [
       "<div>\n",
       "<style scoped>\n",
       "    .dataframe tbody tr th:only-of-type {\n",
       "        vertical-align: middle;\n",
       "    }\n",
       "\n",
       "    .dataframe tbody tr th {\n",
       "        vertical-align: top;\n",
       "    }\n",
       "\n",
       "    .dataframe thead th {\n",
       "        text-align: right;\n",
       "    }\n",
       "</style>\n",
       "<table border=\"1\" class=\"dataframe\">\n",
       "  <thead>\n",
       "    <tr style=\"text-align: right;\">\n",
       "      <th></th>\n",
       "      <th>id</th>\n",
       "      <th>score</th>\n",
       "      <th>start.1</th>\n",
       "      <th>start.2</th>\n",
       "      <th>start.3</th>\n",
       "      <th>start.4</th>\n",
       "      <th>start.5</th>\n",
       "      <th>start.6</th>\n",
       "      <th>start.7</th>\n",
       "      <th>start.8</th>\n",
       "      <th>...</th>\n",
       "      <th>start.391</th>\n",
       "      <th>start.392</th>\n",
       "      <th>start.393</th>\n",
       "      <th>start.394</th>\n",
       "      <th>start.395</th>\n",
       "      <th>start.396</th>\n",
       "      <th>start.397</th>\n",
       "      <th>start.398</th>\n",
       "      <th>start.399</th>\n",
       "      <th>start.400</th>\n",
       "    </tr>\n",
       "  </thead>\n",
       "  <tbody>\n",
       "    <tr>\n",
       "      <th>0</th>\n",
       "      <td>1</td>\n",
       "      <td>100</td>\n",
       "      <td>0</td>\n",
       "      <td>0</td>\n",
       "      <td>0</td>\n",
       "      <td>0</td>\n",
       "      <td>0</td>\n",
       "      <td>0</td>\n",
       "      <td>0</td>\n",
       "      <td>1</td>\n",
       "      <td>...</td>\n",
       "      <td>0</td>\n",
       "      <td>0</td>\n",
       "      <td>0</td>\n",
       "      <td>0</td>\n",
       "      <td>0</td>\n",
       "      <td>0</td>\n",
       "      <td>0</td>\n",
       "      <td>0</td>\n",
       "      <td>0</td>\n",
       "      <td>0</td>\n",
       "    </tr>\n",
       "  </tbody>\n",
       "</table>\n",
       "<p>1 rows × 402 columns</p>\n",
       "</div>"
      ],
      "text/plain": [
       "   id  score  start.1  start.2  start.3  start.4  start.5  start.6  start.7  \\\n",
       "0   1    100        0        0        0        0        0        0        0   \n",
       "\n",
       "   start.8    ...      start.391  start.392  start.393  start.394  start.395  \\\n",
       "0        1    ...              0          0          0          0          0   \n",
       "\n",
       "   start.396  start.397  start.398  start.399  start.400  \n",
       "0          0          0          0          0          0  \n",
       "\n",
       "[1 rows x 402 columns]"
      ]
     },
     "execution_count": 29,
     "metadata": {},
     "output_type": "execute_result"
    }
   ],
   "source": [
    "solution_df"
   ]
  },
  {
   "cell_type": "code",
   "execution_count": 30,
   "metadata": {},
   "outputs": [],
   "source": [
    "solution_df.to_csv('test_save.csv', index=False)"
   ]
  }
 ],
 "metadata": {
  "kernelspec": {
   "display_name": "Python 3",
   "language": "python",
   "name": "python3"
  },
  "language_info": {
   "codemirror_mode": {
    "name": "ipython",
    "version": 3
   },
   "file_extension": ".py",
   "mimetype": "text/x-python",
   "name": "python",
   "nbconvert_exporter": "python",
   "pygments_lexer": "ipython3",
   "version": "3.6.2"
  }
 },
 "nbformat": 4,
 "nbformat_minor": 2
}
