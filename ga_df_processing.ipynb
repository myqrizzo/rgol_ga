{
 "cells": [
  {
   "cell_type": "code",
   "execution_count": 8,
   "metadata": {},
   "outputs": [],
   "source": [
    "import pandas as pd\n",
    "import numpy as np\n",
    "from viz import show_field"
   ]
  },
  {
   "cell_type": "code",
   "execution_count": 9,
   "metadata": {},
   "outputs": [],
   "source": [
    "df = pd.read_csv('resources/train.csv', index_col='id')"
   ]
  },
  {
   "cell_type": "code",
   "execution_count": 10,
   "metadata": {},
   "outputs": [],
   "source": [
    "from GeneticSolver import GeneticSolver\n",
    "from MPGeneticSolver import MPGeneticSolver"
   ]
  },
  {
   "cell_type": "code",
   "execution_count": 11,
   "metadata": {},
   "outputs": [],
   "source": [
    "mpgs = MPGeneticSolver(early_stopping=False)"
   ]
  },
  {
   "cell_type": "code",
   "execution_count": 14,
   "metadata": {},
   "outputs": [],
   "source": [
    "solution_df = pd.DataFrame([], columns=['id'] + ['start.'+ str(_) for _ in range(1, 401)])"
   ]
  },
  {
   "cell_type": "code",
   "execution_count": 17,
   "metadata": {},
   "outputs": [
    {
     "name": "stderr",
     "output_type": "stream",
     "text": [
      "/Volumes/Storage/goinfre/ptyshevs/dl_env/lib/python3.6/site-packages/pandas/core/indexes/api.py:107: RuntimeWarning: '<' not supported between instances of 'str' and 'int', sort order is undefined for incomparable objects\n",
      "  result = result.union(other)\n"
     ]
    },
    {
     "data": {
      "text/html": [
       "<div>\n",
       "<style scoped>\n",
       "    .dataframe tbody tr th:only-of-type {\n",
       "        vertical-align: middle;\n",
       "    }\n",
       "\n",
       "    .dataframe tbody tr th {\n",
       "        vertical-align: top;\n",
       "    }\n",
       "\n",
       "    .dataframe thead th {\n",
       "        text-align: right;\n",
       "    }\n",
       "</style>\n",
       "<table border=\"1\" class=\"dataframe\">\n",
       "  <thead>\n",
       "    <tr style=\"text-align: right;\">\n",
       "      <th></th>\n",
       "      <th>id</th>\n",
       "      <th>start.1</th>\n",
       "      <th>start.2</th>\n",
       "      <th>start.3</th>\n",
       "      <th>start.4</th>\n",
       "      <th>start.5</th>\n",
       "      <th>start.6</th>\n",
       "      <th>start.7</th>\n",
       "      <th>start.8</th>\n",
       "      <th>start.9</th>\n",
       "      <th>...</th>\n",
       "      <th>start.392</th>\n",
       "      <th>start.393</th>\n",
       "      <th>start.394</th>\n",
       "      <th>start.395</th>\n",
       "      <th>start.396</th>\n",
       "      <th>start.397</th>\n",
       "      <th>start.398</th>\n",
       "      <th>start.399</th>\n",
       "      <th>start.400</th>\n",
       "      <th>0</th>\n",
       "    </tr>\n",
       "  </thead>\n",
       "  <tbody>\n",
       "    <tr>\n",
       "      <th>0</th>\n",
       "      <td>NaN</td>\n",
       "      <td>NaN</td>\n",
       "      <td>NaN</td>\n",
       "      <td>NaN</td>\n",
       "      <td>NaN</td>\n",
       "      <td>NaN</td>\n",
       "      <td>NaN</td>\n",
       "      <td>NaN</td>\n",
       "      <td>NaN</td>\n",
       "      <td>NaN</td>\n",
       "      <td>...</td>\n",
       "      <td>NaN</td>\n",
       "      <td>NaN</td>\n",
       "      <td>NaN</td>\n",
       "      <td>NaN</td>\n",
       "      <td>NaN</td>\n",
       "      <td>NaN</td>\n",
       "      <td>NaN</td>\n",
       "      <td>NaN</td>\n",
       "      <td>NaN</td>\n",
       "      <td>0</td>\n",
       "    </tr>\n",
       "    <tr>\n",
       "      <th>1</th>\n",
       "      <td>NaN</td>\n",
       "      <td>NaN</td>\n",
       "      <td>NaN</td>\n",
       "      <td>NaN</td>\n",
       "      <td>NaN</td>\n",
       "      <td>NaN</td>\n",
       "      <td>NaN</td>\n",
       "      <td>NaN</td>\n",
       "      <td>NaN</td>\n",
       "      <td>NaN</td>\n",
       "      <td>...</td>\n",
       "      <td>NaN</td>\n",
       "      <td>NaN</td>\n",
       "      <td>NaN</td>\n",
       "      <td>NaN</td>\n",
       "      <td>NaN</td>\n",
       "      <td>NaN</td>\n",
       "      <td>NaN</td>\n",
       "      <td>NaN</td>\n",
       "      <td>NaN</td>\n",
       "      <td>[0, 0, 0, 0, 0, 1, 0, 0, 0, 0, 0, 0, 1, 0, 0, ...</td>\n",
       "    </tr>\n",
       "  </tbody>\n",
       "</table>\n",
       "<p>2 rows × 402 columns</p>\n",
       "</div>"
      ],
      "text/plain": [
       "    id start.1 start.2 start.3 start.4 start.5 start.6 start.7 start.8  \\\n",
       "0  NaN     NaN     NaN     NaN     NaN     NaN     NaN     NaN     NaN   \n",
       "1  NaN     NaN     NaN     NaN     NaN     NaN     NaN     NaN     NaN   \n",
       "\n",
       "  start.9                        ...                         start.392  \\\n",
       "0     NaN                        ...                               NaN   \n",
       "1     NaN                        ...                               NaN   \n",
       "\n",
       "  start.393 start.394 start.395 start.396 start.397 start.398 start.399  \\\n",
       "0       NaN       NaN       NaN       NaN       NaN       NaN       NaN   \n",
       "1       NaN       NaN       NaN       NaN       NaN       NaN       NaN   \n",
       "\n",
       "  start.400                                                  0  \n",
       "0       NaN                                                  0  \n",
       "1       NaN  [0, 0, 0, 0, 0, 1, 0, 0, 0, 0, 0, 0, 1, 0, 0, ...  \n",
       "\n",
       "[2 rows x 402 columns]"
      ]
     },
     "execution_count": 17,
     "metadata": {},
     "output_type": "execute_result"
    }
   ],
   "source": [
    "solution_df.append(board.ravel())"
   ]
  },
  {
   "cell_type": "code",
   "execution_count": 12,
   "metadata": {},
   "outputs": [
    {
     "name": "stdout",
     "output_type": "stream",
     "text": [
      "1 is solved with score 1.0. Average score: 1.0\n",
      "2 is solved with score 0.995. Average score: 0.9975\n",
      "Best score: (1, 1.0)\n",
      "Worst score: (2, 0.995)\n"
     ]
    }
   ],
   "source": [
    "running_avg, n = 0, 0\n",
    "log = []\n",
    "best, worst = None, None\n",
    "for (idx, row) in df.iterrows():\n",
    "    delta, X, Y = row.values[0], row.values[1:401].reshape((20, 20)).astype('uint8'), row.values[401:].reshape((20, 20)).astype('uint8')\n",
    "    solution = mpgs.solve(Y, delta, return_all=False)\n",
    "    board, score = solution\n",
    "    log.append((idx, score))\n",
    "    if best is None or best[1] < score:\n",
    "        best = (idx, score)\n",
    "    if worst is None or worst[1] > score:\n",
    "        worst = (idx, score)\n",
    "    n += 1\n",
    "    running_avg = (running_avg * (n - 1) + score) / n\n",
    "    print(f\"{idx} is solved with score {score}. Average score: {running_avg}\")\n",
    "    if idx > 1:\n",
    "        break\n",
    "print(\"Best score:\", best)\n",
    "print(\"Worst score:\", worst)"
   ]
  }
 ],
 "metadata": {
  "kernelspec": {
   "display_name": "Python 3",
   "language": "python",
   "name": "python3"
  },
  "language_info": {
   "codemirror_mode": {
    "name": "ipython",
    "version": 3
   },
   "file_extension": ".py",
   "mimetype": "text/x-python",
   "name": "python",
   "nbconvert_exporter": "python",
   "pygments_lexer": "ipython3",
   "version": "3.6.2"
  }
 },
 "nbformat": 4,
 "nbformat_minor": 2
}
