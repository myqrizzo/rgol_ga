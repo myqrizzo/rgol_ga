{
 "cells": [
  {
   "cell_type": "code",
   "execution_count": 1,
   "metadata": {},
   "outputs": [],
   "source": [
    "import numpy as np"
   ]
  },
  {
   "cell_type": "code",
   "execution_count": 3,
   "metadata": {},
   "outputs": [],
   "source": [
    "M = ((-1, -1), (-1, 0), (-1, 1), (0, -1), (0, 1), (1, -1), (1, 0), (1, 1))\n",
    "\n",
    "def calc_neighs(field, i, j):\n",
    "    \"\"\"\n",
    "    Calculate number of neighbors alive (assuming square field)\n",
    "    \"\"\"\n",
    "    neighs = 0\n",
    "    n = len(field)\n",
    "    for m in M:\n",
    "        row_idx = m[0] + i\n",
    "        col_idx = m[1] + j\n",
    "        if 0 <= row_idx < n and 0 <= col_idx < n:\n",
    "            if field[row_idx][col_idx]:\n",
    "                neighs += 1\n",
    "    return neighs\n",
    "\n",
    "def make_move(field, moves=1):\n",
    "    \"\"\"\n",
    "    Make a move forward according to Game of Life rules\n",
    "    \"\"\"\n",
    "    n = len(field)\n",
    "    cur_field = field\n",
    "    for _ in range(moves):\n",
    "        new_field = np.zeros((n, n), dtype='uint8')\n",
    "        for i in range(n):\n",
    "            for j in range(n):\n",
    "                neighs = calc_neighs(cur_field, i, j)\n",
    "                if cur_field[i][j] and neighs == 2:\n",
    "                    new_field[i][j] = 1\n",
    "                if neighs == 3:\n",
    "                    new_field[i][j] = 1\n",
    "        cur_field = new_field\n",
    "    return cur_field"
   ]
  },
  {
   "cell_type": "code",
   "execution_count": 114,
   "metadata": {},
   "outputs": [],
   "source": [
    "def generate_population(size, random_state=-1):\n",
    "    \"\"\"\n",
    "    Generating initial population of individual solutions\n",
    "    :return: initial population as a list of 20x20 arrays\n",
    "    \"\"\"\n",
    "    if random_state != -1:\n",
    "        np.random.seed(random_state)\n",
    "    initial_states = np.split(np.random.binomial(1, 0.5, (20 * size, 20)).astype('uint8'), size)\n",
    "    return [make_move(state, 5) for state in initial_states]"
   ]
  },
  {
   "cell_type": "code",
   "execution_count": 126,
   "metadata": {},
   "outputs": [],
   "source": [
    "np.random.seed(42)\n",
    "population = generate_population(10)"
   ]
  },
  {
   "cell_type": "code",
   "execution_count": 127,
   "metadata": {},
   "outputs": [],
   "source": [
    "import matplotlib.pyplot as plt"
   ]
  },
  {
   "cell_type": "code",
   "execution_count": 128,
   "metadata": {},
   "outputs": [
    {
     "data": {
      "image/png": "[encoded data removed]",
      "text/plain": [
       "<Figure size 1080x360 with 3 Axes>"
      ]
     },
     "metadata": {},
     "output_type": "display_data"
    }
   ],
   "source": [
    "fig, ax = plt.subplots(ncols=3, figsize=(15, 5))\n",
    "fig.tight_layout()\n",
    "ax[0].set_xticks([], [])\n",
    "ax[1].set_xticks([], [])\n",
    "ax[2].set_xticks([], [])\n",
    "ax[0].set_yticks([], [])\n",
    "ax[1].set_yticks([], [])\n",
    "ax[2].set_yticks([], []);\n",
    "ax[0].imshow(population[0], cmap=plt.cm.Greys)\n",
    "ax[1].imshow(population[1], cmap=plt.cm.Greys)\n",
    "ax[2].imshow(population[2], cmap=plt.cm.Greys);\n",
    "# fig.savefig('population_example.png', dpi=100, bbox_inches = 'tight', pad_inches = 0)"
   ]
  },
  {
   "cell_type": "code",
   "execution_count": 129,
   "metadata": {},
   "outputs": [],
   "source": [
    "def show_field(field):\n",
    "    fig, ax = plt.subplots(figsize=(5, 5))\n",
    "    fig.tight_layout()\n",
    "    ax.set_xticks([], [])\n",
    "    ax.set_yticks([], [])\n",
    "    ax.imshow(field, cmap=plt.cm.Greys)\n",
    "    return fig"
   ]
  },
  {
   "cell_type": "code",
   "execution_count": 121,
   "metadata": {},
   "outputs": [],
   "source": [
    "def generate_problem():\n",
    "    \"\"\" Generates example problem \"\"\"\n",
    "    np.random.seed(42)\n",
    "    board = np.random.binomial(1, 0.01, (20, 20)).astype('uint8')\n",
    "    # toad\n",
    "    board[2, 3:6] = 1\n",
    "    board[3, 2:5] = 1\n",
    "    # glider 1\n",
    "    board[9, 5:8] = 1\n",
    "    board[8, 7] = 1\n",
    "    board[7, 6] = 1\n",
    "    # glider 2\n",
    "    board[16, 3:6] = 1\n",
    "    board[15, 5] = 1\n",
    "    board[14, 4] = 1\n",
    "    # beacon 1\n",
    "    board[2:4, 14:16]=1\n",
    "    board[4:6, 16:18]=1\n",
    "    # beacon 2\n",
    "    board[14:16, 14:16]=1\n",
    "    board[16:18, 16:18]=1\n",
    "    return board, make_move(board, 3)"
   ]
  },
  {
   "cell_type": "code",
   "execution_count": 226,
   "metadata": {},
   "outputs": [],
   "source": [
    "X, Y = generate_problem()"
   ]
  },
  {
   "cell_type": "code",
   "execution_count": 227,
   "metadata": {},
   "outputs": [
    {
     "data": {
      "image/png": "[encoded data removed]",
      "text/plain": [
       "<Figure size 720x360 with 2 Axes>"
      ]
     },
     "metadata": {},
     "output_type": "display_data"
    }
   ],
   "source": [
    "fig, ax = plt.subplots(ncols=2, figsize=(10, 5))\n",
    "fig.tight_layout()\n",
    "ax[0].set_xticks([], [])\n",
    "ax[0].set_yticks([], [])\n",
    "ax[1].set_xticks([], [])\n",
    "ax[1].set_yticks([], [])\n",
    "ax[0].imshow(X, cmap=plt.cm.Greys)\n",
    "ax[0].set_title(\"Start board\")\n",
    "ax[1].imshow(Y, cmap=plt.cm.Greys)\n",
    "ax[1].set_title(\"End board (delta=3)\");\n",
    "fig.savefig('problem_example.png', dpi=100, bbox_inches = 'tight', pad_inches = 0)"
   ]
  },
  {
   "cell_type": "code",
   "execution_count": 119,
   "metadata": {},
   "outputs": [],
   "source": [
    "def fitness(start_field, end_field, delta):\n",
    "    \"\"\"\n",
    "    Calculate fitness for particular candidate (start configuration of the field)\n",
    "    :param start_field: candidate (start configuration)\n",
    "    :param end_field: target (stop configuration)\n",
    "    :param delta: number of steps to proceed before comparing to stop configuration\n",
    "    :return: value in range [0, 1] that indicates fractions of cells that match their state\n",
    "    \"\"\"\n",
    "    candidate = make_move(start_field, moves=delta)\n",
    "    return (candidate == end_field).sum() / 400\n",
    "\n",
    "      \n",
    "def score_population(population, target, delta):\n",
    "    \"\"\"\n",
    "    Apply fitness function for each gene in a population\n",
    "    :param population: list of candidate solutions\n",
    "    :param target: 20x20 array that represents field in stopping condition\n",
    "    :param delta: number of steps to revert\n",
    "    :return: list of scores for each solution\n",
    "    \"\"\"\n",
    "    return [fitness(gene, target, delta) for gene in population]"
   ]
  },
  {
   "cell_type": "code",
   "execution_count": 130,
   "metadata": {},
   "outputs": [
    {
     "data": {
      "text/plain": [
       "[0.7825, 0.775, 0.745, 0.7025, 0.755, 0.82, 0.74, 0.845, 0.835, 0.775]"
      ]
     },
     "execution_count": 130,
     "metadata": {},
     "output_type": "execute_result"
    }
   ],
   "source": [
    "score_population(population, Y, 3)"
   ]
  },
  {
   "cell_type": "code",
   "execution_count": 133,
   "metadata": {},
   "outputs": [],
   "source": [
    "def selection(population, scores, retain_frac=0.8, retain_random=0.05):\n",
    "    \"\"\"\n",
    "    Apply selection operator to the population\n",
    "    :param population: list of candidate solutions\n",
    "    :param scores: list of score associated with each individual\n",
    "    :param retain_frac: percent of top individuals to retain\n",
    "    :param retain_random: chance of retaining sub-optimal individuals in the population\n",
    "    \"\"\"\n",
    "    retain_len = int(len(scores) * retain_frac)\n",
    "    sorted_indices = np.argsort(scores)[::-1]\n",
    "    population = [population[idx] for idx in sorted_indices]\n",
    "    selected = population[:retain_len]\n",
    "    leftovers = population[retain_len:]\n",
    "\n",
    "    for gene in leftovers:\n",
    "        if np.random.rand() < retain_random:\n",
    "            selected.append(gene)\n",
    "    return selected"
   ]
  },
  {
   "cell_type": "code",
   "execution_count": 166,
   "metadata": {},
   "outputs": [
    {
     "data": {
      "text/plain": [
       "[0.845, 0.835, 0.82, 0.7825, 0.775, 0.775, 0.755, 0.745]"
      ]
     },
     "execution_count": 166,
     "metadata": {},
     "output_type": "execute_result"
    }
   ],
   "source": [
    "score_population(selection(population, score_population(population, Y, 3)), Y, 3)"
   ]
  },
  {
   "cell_type": "code",
   "execution_count": 170,
   "metadata": {},
   "outputs": [],
   "source": [
    "def mutate(field, switch_frac=0.1):\n",
    "    \"\"\" Inplace mutation of the provided field \"\"\"\n",
    "    a = np.random.binomial(1, switch_frac, size=(20, 20)).astype('bool')\n",
    "    field[a] += 1\n",
    "    field[a] %= 2\n",
    "    return field"
   ]
  },
  {
   "cell_type": "code",
   "execution_count": 177,
   "metadata": {},
   "outputs": [
    {
     "data": {
      "text/plain": [
       "array([[0, 0, 0, 0, 0, 0, 0, 1, 1, 1, 0, 0, 1, 1, 1, 1, 1, 0, 0, 0],\n",
       "       [1, 0, 0, 0, 0, 0, 1, 0, 0, 0, 0, 0, 1, 1, 0, 0, 0, 0, 1, 1],\n",
       "       [0, 0, 0, 0, 0, 0, 0, 1, 0, 0, 0, 0, 1, 1, 1, 1, 0, 1, 0, 0],\n",
       "       [0, 0, 0, 0, 0, 0, 0, 0, 1, 0, 1, 0, 0, 0, 0, 0, 0, 1, 1, 1],\n",
       "       [0, 0, 0, 0, 0, 0, 0, 0, 0, 0, 0, 1, 0, 0, 0, 0, 0, 1, 0, 0],\n",
       "       [0, 0, 0, 0, 0, 1, 0, 0, 0, 0, 1, 0, 0, 0, 0, 0, 1, 1, 0, 1],\n",
       "       [0, 1, 0, 0, 1, 1, 0, 1, 0, 0, 1, 0, 0, 0, 0, 1, 1, 0, 0, 1],\n",
       "       [1, 0, 0, 0, 0, 0, 0, 0, 0, 1, 1, 0, 0, 0, 0, 0, 0, 1, 0, 1],\n",
       "       [1, 0, 0, 0, 1, 0, 0, 0, 1, 1, 1, 0, 0, 0, 0, 0, 0, 1, 1, 0],\n",
       "       [0, 0, 0, 0, 0, 0, 0, 0, 1, 1, 0, 0, 1, 1, 0, 0, 0, 0, 0, 0],\n",
       "       [0, 0, 0, 0, 0, 0, 0, 0, 1, 1, 1, 0, 0, 0, 0, 0, 0, 0, 0, 1],\n",
       "       [0, 0, 0, 0, 0, 0, 0, 1, 0, 1, 1, 0, 0, 0, 0, 0, 0, 0, 0, 0],\n",
       "       [0, 1, 1, 1, 0, 0, 1, 1, 1, 0, 0, 1, 1, 1, 0, 0, 0, 0, 0, 0],\n",
       "       [0, 1, 1, 1, 1, 1, 0, 1, 1, 0, 1, 0, 0, 1, 1, 0, 0, 0, 0, 0],\n",
       "       [0, 0, 1, 0, 1, 1, 1, 0, 0, 0, 0, 0, 0, 0, 0, 0, 1, 0, 0, 0],\n",
       "       [1, 1, 1, 0, 1, 1, 1, 0, 1, 1, 0, 1, 0, 0, 0, 0, 0, 0, 0, 0],\n",
       "       [1, 1, 0, 1, 0, 0, 0, 0, 0, 0, 1, 1, 0, 1, 0, 1, 1, 0, 0, 0],\n",
       "       [0, 0, 1, 1, 0, 1, 1, 0, 0, 0, 1, 0, 0, 0, 1, 1, 0, 0, 0, 0],\n",
       "       [0, 0, 0, 1, 0, 0, 1, 0, 0, 0, 1, 0, 0, 0, 1, 1, 0, 0, 0, 0],\n",
       "       [0, 0, 0, 0, 0, 0, 0, 0, 1, 1, 1, 0, 1, 0, 1, 1, 0, 0, 0, 0]],\n",
       "      dtype=uint8)"
      ]
     },
     "execution_count": 177,
     "metadata": {},
     "output_type": "execute_result"
    }
   ],
   "source": [
    "gene = np.copy(population[1])\n",
    "gene_copy = np.copy(gene)\n",
    "mutate(gene, 0.05)"
   ]
  },
  {
   "cell_type": "code",
   "execution_count": 178,
   "metadata": {},
   "outputs": [
    {
     "data": {
      "image/png": "[encoded data removed]",
      "text/plain": [
       "<Figure size 720x360 with 2 Axes>"
      ]
     },
     "metadata": {},
     "output_type": "display_data"
    }
   ],
   "source": [
    "fig, ax = plt.subplots(ncols=2, figsize=(10, 5))\n",
    "fig.tight_layout()\n",
    "ax[0].set_xticks([], [])\n",
    "ax[0].set_yticks([], [])\n",
    "ax[1].set_xticks([], [])\n",
    "ax[1].set_yticks([], [])\n",
    "ax[0].imshow(gene_copy, cmap=plt.cm.Greys)\n",
    "ax[0].set_title(\"Original individual\")\n",
    "ax[1].imshow(gene, cmap=plt.cm.Greys)\n",
    "ax[1].set_title(\"Mutated individual\");\n",
    "fig.savefig('mutation_example.png', dpi=100, bbox_inches = 'tight', pad_inches = 0)"
   ]
  },
  {
   "cell_type": "code",
   "execution_count": 181,
   "metadata": {},
   "outputs": [],
   "source": [
    "def crossover(mom, dad):\n",
    "    \"\"\" Take two parents, return two children, interchanging half of the allels of each parent randomly \"\"\"\n",
    "    select_mask = np.random.binomial(1, 0.5, size=(20, 20)).astype('bool')\n",
    "    child1, child2 = np.copy(mom), np.copy(dad)\n",
    "    child1[select_mask] = dad[select_mask]\n",
    "    child2[select_mask] = mom[select_mask]\n",
    "    return child1, child2"
   ]
  },
  {
   "cell_type": "code",
   "execution_count": 179,
   "metadata": {},
   "outputs": [],
   "source": [
    "mom, dad = population[1], population[2]"
   ]
  },
  {
   "cell_type": "code",
   "execution_count": 182,
   "metadata": {},
   "outputs": [],
   "source": [
    "child1, child2 = crossover(mom, dad)"
   ]
  },
  {
   "cell_type": "code",
   "execution_count": 189,
   "metadata": {},
   "outputs": [
    {
     "data": {
      "image/png": "[encoded data removed]",
      "text/plain": [
       "<Figure size 720x720 with 4 Axes>"
      ]
     },
     "metadata": {},
     "output_type": "display_data"
    }
   ],
   "source": [
    "fig, ax = plt.subplots(nrows=2, ncols=2, figsize=(10, 10))\n",
    "fig.tight_layout()\n",
    "ax[0, 0].set_xticks([], [])\n",
    "ax[0, 0].set_yticks([], [])\n",
    "ax[0, 1].set_xticks([], [])\n",
    "ax[0, 1].set_yticks([], [])\n",
    "ax[1, 0].set_xticks([], [])\n",
    "ax[1, 0].set_yticks([], [])\n",
    "ax[1, 1].set_xticks([], [])\n",
    "ax[1, 1].set_yticks([], [])\n",
    "ax[0, 0].imshow(mom, cmap=plt.cm.Greys)\n",
    "ax[0, 0].set_title(\"Mother\")\n",
    "ax[0, 1].imshow(dad, cmap=plt.cm.Greys)\n",
    "ax[0, 1].set_title(\"Father\");\n",
    "ax[1, 0].imshow(child1, cmap=plt.cm.Greys)\n",
    "ax[1, 0].set_title(\"Child 1\")\n",
    "ax[1, 1].imshow(child2, cmap=plt.cm.Greys)\n",
    "ax[1, 1].set_title('Child 2');\n",
    "fig.savefig('crossover_example.png', dpi=100, bbox_inches = 'tight', pad_inches = 0)"
   ]
  },
  {
   "cell_type": "code",
   "execution_count": 194,
   "metadata": {},
   "outputs": [],
   "source": [
    "def evolve(population, target, delta, retain_frac=0.8, retain_random=0.05, mutate_chance=0.05):\n",
    "    \"\"\"\n",
    "    Evolution step\n",
    "    :param Y: 20x20 array that represents field in stopping condition\n",
    "    :param delta: number of steps to revert\n",
    "    :return: new generation of the same size\n",
    "    \"\"\"\n",
    "    scores = score_population(population, target, delta)\n",
    "    next_population = selection(population, scores, retain_frac=retain_frac, retain_random=retain_random)\n",
    "    \n",
    "    # mutate everyone expecting for the best candidate\n",
    "    for gene in next_population[1:]:\n",
    "        if np.random.rand() < mutate_chance:\n",
    "            mutate(gene)\n",
    "\n",
    "    places_left = len(population) - len(next_population)\n",
    "    children = []\n",
    "    parent_max_idx = len(next_population) - 1\n",
    "    while len(children) < places_left:\n",
    "        mom_idx, dad_idx = np.random.randint(0, parent_max_idx, 2)\n",
    "        if mom_idx != dad_idx:\n",
    "            child1, child2 = crossover(next_population[mom_idx], next_population[dad_idx])\n",
    "            children.append(child1)\n",
    "            if len(children) < places_left:\n",
    "                children.append(child2)\n",
    "    next_population.extend(children)\n",
    "    return next_population"
   ]
  },
  {
   "cell_type": "code",
   "execution_count": 195,
   "metadata": {},
   "outputs": [],
   "source": [
    "next_gen = evolve(population, Y, 3)"
   ]
  },
  {
   "cell_type": "code",
   "execution_count": 204,
   "metadata": {},
   "outputs": [],
   "source": [
    "def solve(target, delta, population_size=200, n_generations=300):\n",
    "    \"\"\"\n",
    "    :param target: 20x20 array that represents field in stopping condition\n",
    "    :param delta: number of steps to revert\n",
    "    :param n_generations: number of evolution generations. Overrides initialization value if specified\n",
    "    :return: 20x20 array that represents the best start field found and associated fitness value\n",
    "    \"\"\"\n",
    "    population = generate_population(population_size)\n",
    "    for generation in range(n_generations):\n",
    "        population = evolve(population, target, delta)\n",
    "        if generation == 0:\n",
    "            print(\"Generation #: best score\")\n",
    "        elif generation % 50 == 0:\n",
    "            print(\"Generation \", generation, \": \", fitness(population[0], target, delta))\n",
    "    return population[0]"
   ]
  },
  {
   "cell_type": "code",
   "execution_count": 206,
   "metadata": {},
   "outputs": [
    {
     "name": "stdout",
     "output_type": "stream",
     "text": [
      "Generation #: best score\n",
      "Generation  50 :  0.93\n",
      "Generation  100 :  0.9375\n",
      "Generation  150 :  0.9375\n",
      "Generation  200 :  0.9375\n",
      "Generation  250 :  0.94\n",
      "Generation  300 :  0.945\n",
      "Generation  350 :  0.945\n",
      "Generation  400 :  0.95\n",
      "Generation  450 :  0.95\n",
      "Generation  500 :  0.95\n",
      "Generation  550 :  0.95\n",
      "Generation  600 :  0.95\n",
      "Generation  650 :  0.95\n",
      "Generation  700 :  0.95\n",
      "Generation  750 :  0.95\n",
      "Generation  800 :  0.95\n",
      "Generation  850 :  0.95\n",
      "Generation  900 :  0.95\n",
      "Generation  950 :  0.95\n"
     ]
    }
   ],
   "source": [
    "result = solve(Y, 3, n_generations=1000)"
   ]
  },
  {
   "cell_type": "code",
   "execution_count": 209,
   "metadata": {},
   "outputs": [],
   "source": [
    "from MPGeneticSolver import MPGeneticSolver"
   ]
  },
  {
   "cell_type": "code",
   "execution_count": 246,
   "metadata": {},
   "outputs": [
    {
     "name": "stdout",
     "output_type": "stream",
     "text": [
      "Generation #: best score\n",
      "Generation #: best score\n",
      "Generation #: best score\n",
      "Generation #: best score\n",
      "Generation  50 :  0.935\n",
      "Generation  50 :  0.935\n",
      "Generation  50 :  0.935\n",
      "Generation  50 :  0.9375\n",
      "Generation  100 :  0.94\n",
      "Generation  100 :  0.9375\n",
      "Generation  100 :  0.9375\n",
      "Generation  100 :  0.94\n",
      "Generation  150 :  0.94\n",
      "Generation  150 :  0.94\n",
      "Generation  150 :  0.9425\n",
      "Generation  150 :  0.94\n",
      "Generation  200 :  0.9425\n",
      "Generation  200 :  0.945\n",
      "Generation  200 :  0.9425\n",
      "Generation  200 :  0.94\n",
      "Generation  250 :  0.9425\n",
      "Generation  250 :  0.9425\n",
      "Generation  250 :  0.94\n",
      "Generation  250 :  0.945\n",
      "Generation  300 :  0.9475\n",
      "Generation  300 :  0.945\n",
      "Generation  300 :  0.94\n",
      "Generation  300 :  0.945\n",
      "Generation  350 :  0.955\n",
      "Generation  350 :  0.9425\n",
      "Generation  350 :  0.95\n",
      "Generation  350 :  0.9475\n",
      "Generation  400 :  0.9575\n",
      "Generation  400 :  0.9425\n",
      "Generation  400 :  0.95\n",
      "Generation  400 :  0.9475\n",
      "Generation  450 :  0.96\n",
      "Generation  450 :  0.945\n",
      "Generation  450 :  0.9525\n",
      "Generation  450 :  0.955\n",
      "Generation  500 :  0.9475\n",
      "Generation  500 :  0.96\n",
      "Generation  500 :  0.9525\n",
      "Generation  500 :  0.955\n",
      "Generation  550 :  0.9475\n",
      "Generation  550 :  0.96\n",
      "Generation  550 :  0.955\n",
      "Generation  550 :  0.955\n",
      "Generation  600 :  0.9475\n",
      "Generation  600 :  0.96\n",
      "Generation  600 :  0.9575\n",
      "Generation  600 :  0.955\n",
      "Generation  650 :  0.9525\n",
      "Generation  650 :  0.96\n",
      "Generation  650 :  0.96\n",
      "Generation  650 :  0.955\n",
      "Generation  700 :  0.9575\n",
      "Generation  700 :  0.96\n",
      "Generation  700 :  0.955\n",
      "Generation  700 :  0.96\n",
      "Generation  750 :  0.96\n",
      "Generation  750 :  0.955\n",
      "Generation  750 :  0.9625\n",
      "Generation  750 :  0.96\n",
      "Generation  800 :  0.96\n",
      "Generation  800 :  0.955\n",
      "Generation  800 :  0.9625\n",
      "Generation  800 :  0.96\n",
      "Generation  850 :  0.96\n",
      "Generation  850 :  0.955\n",
      "Generation  850 :  0.9625\n",
      "Generation  850 :  0.9625\n",
      "Generation  900 :  0.96\n",
      "Generation  900 :  0.955\n",
      "Generation  900 :  0.9625\n",
      "Generation  900 :  0.9625\n",
      "Generation  950 :  0.96\n",
      "Generation  950 :  0.955\n",
      "Generation  950 :  0.9625\n",
      "Generation  950 :  0.965\n",
      "Generation  1000 :  0.96\n",
      "Generation  1000 :  0.955\n",
      "Generation  1000 :  0.9625\n",
      "Generation  1000 :  0.965\n",
      "Generation  1050 :  0.96\n",
      "Generation  1050 :  0.955\n",
      "Generation  1050 :  0.9625\n",
      "Generation  1050 :  0.965\n",
      "Generation  1100 :  0.96\n",
      "Generation  1100 :  0.955\n",
      "Generation  1100 :  0.9625\n",
      "Generation  1100 :  0.965\n",
      "Generation  1150 :  0.955\n",
      "Generation  1150 :  0.96\n",
      "Generation  1150 :  0.9625\n",
      "Generation  1150 :  0.965\n",
      "Generation  1200 :  0.955\n",
      "Generation  1200 :  0.96\n",
      "Generation  1200 :  0.9625\n",
      "Generation  1200 :  0.965\n",
      "Generation  1250 :  0.955\n",
      "Generation  1250 :  0.96\n",
      "Generation  1250 :  0.9625\n",
      "Generation  1250 :  0.965\n",
      "Generation  1300 :  0.955\n",
      "Generation  1300 :  0.96\n",
      "Generation  1300 :  0.9625\n",
      "Generation  1300 :  0.965\n",
      "Generation  1350 :  0.96\n",
      "Generation  1350 :  0.955\n",
      "Generation  1350 :  0.9625\n",
      "Generation  1350 :  0.965\n",
      "Generation  1400 :  0.96\n",
      "Generation  1400 :  0.955\n",
      "Generation  1400 :  0.9625\n",
      "Generation  1400 :  0.965\n",
      "Generation  1450 :  0.96\n",
      "Generation  1450 :  0.955\n",
      "Generation  1450 :  0.9625\n",
      "Generation  1450 :  0.965\n",
      "Generation  1500 :  0.96\n",
      "Generation  1500 :  0.955\n",
      "Generation  1500 :  0.9625\n",
      "Generation  1500 :  0.965\n",
      "Generation  1550 :  0.96\n",
      "Generation  1550 :  0.955\n",
      "Generation  1550 :  0.9625\n",
      "Generation  1550 :  0.965\n",
      "Generation  1600 :  0.955\n",
      "Generation  1600 :  0.96\n",
      "Generation  1600 :  0.9625\n",
      "Generation  1600 :  0.965\n",
      "Generation  1650 :  0.96\n",
      "Generation  1650 :  0.9575\n",
      "Generation  1650 :  0.9625\n",
      "Generation  1650 :  0.9675\n",
      "Generation  1700 :  0.96\n",
      "Generation  1700 :  0.9575\n",
      "Generation  1700 :  0.9675\n",
      "Generation  1700 :  0.9625\n",
      "Generation  1750 :  0.9575\n",
      "Generation  1750 :  0.96\n",
      "Generation  1750 :  0.9675\n",
      "Generation  1750 :  0.9625\n",
      "Generation  1800 :  0.9575\n",
      "Generation  1800 :  0.9625\n",
      "Generation  1800 :  0.9675\n",
      "Generation  1800 :  0.9625\n",
      "Generation  1850 :  0.9575\n",
      "Generation  1850 :  0.9625\n",
      "Generation  1850 :  0.9675\n",
      "Generation  1850 :  0.9625\n",
      "Generation  1900 :  0.9575\n",
      "Generation  1900 :  0.9625\n",
      "Generation  1900 :  0.9675\n",
      "Generation  1900 :  0.9625\n",
      "Generation  1950 :  0.9575\n",
      "Generation  1950 :  0.9625\n",
      "Generation  1950 :  0.9675\n",
      "Generation  1950 :  0.9625\n",
      "Generation  2000 :  0.9575\n",
      "Generation  2000 :  0.965\n",
      "Generation  2000 :  0.9675\n",
      "Generation  2000 :  0.9625\n",
      "Generation  2050 :  0.9575\n",
      "Generation  2050 :  0.965\n",
      "Generation  2050 :  0.9675\n",
      "Generation  2050 :  0.9625\n",
      "Generation  2100 :  0.9575\n",
      "Generation  2100 :  0.965\n",
      "Generation  2100 :  0.9675\n",
      "Generation  2100 :  0.9625\n",
      "Generation  2150 :  0.9575\n",
      "Generation  2150 :  0.965\n",
      "Generation  2150 :  0.9675\n",
      "Generation  2150 :  0.9625\n",
      "Generation  2200 :  0.9575\n",
      "Generation  2200 :  0.965\n",
      "Generation  2200 :  0.9675\n",
      "Generation  2200 :  0.9625\n",
      "Generation  2250 :  0.9575\n",
      "Generation  2250 :  0.965\n",
      "Generation  2250 :  0.9675\n",
      "Generation  2250 :  0.9625\n",
      "Generation  2300 :  0.9575\n",
      "Generation  2300 :  0.965\n",
      "Generation  2300 :  0.9675\n",
      "Generation  2300 :  0.9625\n",
      "Generation  2350 :  0.9575\n",
      "Generation  2350 :  0.965\n",
      "Generation  2350 :  0.9675\n",
      "Generation  2350 :  0.9625\n",
      "Generation  2400 :  0.9575\n",
      "Generation  2400 :  0.965\n",
      "Generation  2400 :  0.9625\n",
      "Generation  2400 :  0.9675\n",
      "Generation  2450 :  0.9575\n",
      "Generation  2450 :  0.965\n",
      "Generation  2450 :  0.9625\n",
      "Generation  2450 :  0.9675\n",
      "Generation  2500 :  0.9575\n",
      "Generation  2500 :  0.965\n",
      "Generation  2500 :  0.9625\n",
      "Generation  2500 :  0.9675\n",
      "Generation  2550 :  0.9575\n",
      "Generation  2550 :  0.965\n",
      "Generation  2550 :  0.9625\n",
      "Generation  2550 :  0.9675\n",
      "Generation  2600 :  0.9575\n",
      "Generation  2600 :  0.965\n",
      "Generation  2600 :  0.9625\n",
      "Generation  2600 :  0.9675\n",
      "Generation  2650 :  0.9575\n",
      "Generation  2650 :  0.965\n",
      "Generation  2650 :  0.9625\n",
      "Generation  2650 :  0.9675\n",
      "Generation  2700 :  0.9575\n",
      "Generation  2700 :  0.965\n",
      "Generation  2700 :  0.9625\n",
      "Generation  2700 :  0.9675\n",
      "Generation  2750 :  0.9575\n",
      "Generation  2750 :  0.965\n",
      "Generation  2750 :  0.9625\n",
      "Generation  2750 :  0.9675\n",
      "Generation  2800 :  0.9575\n",
      "Generation  2800 :  0.965\n",
      "Generation  2800 :  0.9625\n",
      "Generation  2800 :  0.9675\n",
      "Generation  2850 :  0.9575\n",
      "Generation  2850 :  0.965\n",
      "Generation  2850 :  0.9625\n",
      "Generation  2850 :  0.9675\n",
      "Generation  2900 :  0.9575\n",
      "Generation  2900 :  0.965\n",
      "Generation  2900 :  0.9625\n",
      "Generation  2900 :  0.9675\n",
      "Generation  2950 :  0.9575\n",
      "Generation  2950 :  0.965\n",
      "Generation  2950 :  0.9625\n",
      "Generation  2950 :  0.9675\n"
     ]
    }
   ],
   "source": [
    "mpgs = MPGeneticSolver(verbosity=1, early_stopping=False, n_generations=3000)"
   ]
  },
  {
   "cell_type": "code",
   "execution_count": 247,
   "metadata": {},
   "outputs": [],
   "source": [
    "solution = mpgs.solve(Y, 3, False)"
   ]
  },
  {
   "cell_type": "code",
   "execution_count": 248,
   "metadata": {},
   "outputs": [
    {
     "data": {
      "image/png": "[encoded data removed]",
      "text/plain": [
       "<Figure size 360x360 with 1 Axes>"
      ]
     },
     "metadata": {},
     "output_type": "display_data"
    }
   ],
   "source": [
    "show_field(make_move(solution[0], 3));"
   ]
  },
  {
   "cell_type": "code",
   "execution_count": 249,
   "metadata": {},
   "outputs": [
    {
     "data": {
      "image/png": "[encoded data removed]",
      "text/plain": [
       "<Figure size 720x720 with 4 Axes>"
      ]
     },
     "metadata": {},
     "output_type": "display_data"
    }
   ],
   "source": [
    "fig, ax = plt.subplots(nrows=2, ncols=2, figsize=(10, 10))\n",
    "fig.tight_layout()\n",
    "ax[0, 0].set_xticks([], [])\n",
    "ax[0, 0].set_yticks([], [])\n",
    "ax[0, 1].set_xticks([], [])\n",
    "ax[0, 1].set_yticks([], [])\n",
    "ax[1, 0].set_xticks([], [])\n",
    "ax[1, 0].set_yticks([], [])\n",
    "ax[1, 1].set_xticks([], [])\n",
    "ax[1, 1].set_yticks([], [])\n",
    "ax[0, 0].imshow(X, cmap=plt.cm.Greys)\n",
    "ax[0, 0].set_title(\"Target start field\")\n",
    "ax[0, 1].imshow(Y, cmap=plt.cm.Greys)\n",
    "ax[0, 1].set_title(\"Target end field\");\n",
    "ax[1, 0].imshow(solution[0], cmap=plt.cm.Greys)\n",
    "ax[1, 0].set_title(\"GA solution start field\")\n",
    "ax[1, 1].imshow(make_move(solution[0], 3), cmap=plt.cm.Greys)\n",
    "ax[1, 1].set_title('GA solution end field');\n",
    "fig.savefig('solution_example.png', dpi=100, bbox_inches = 'tight', pad_inches = 0)"
   ]
  }
 ],
 "metadata": {
  "kernelspec": {
   "display_name": "Python 3",
   "language": "python",
   "name": "python3"
  },
  "language_info": {
   "codemirror_mode": {
    "name": "ipython",
    "version": 3
   },
   "file_extension": ".py",
   "mimetype": "text/x-python",
   "name": "python",
   "nbconvert_exporter": "python",
   "pygments_lexer": "ipython3",
   "version": "3.6.2"
  }
 },
 "nbformat": 4,
 "nbformat_minor": 2
}
